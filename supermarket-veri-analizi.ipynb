{
 "cells": [
  {
   "cell_type": "markdown",
   "id": "722a6603",
   "metadata": {
    "papermill": {
     "duration": 0.017669,
     "end_time": "2023-03-23T13:37:40.342328",
     "exception": false,
     "start_time": "2023-03-23T13:37:40.324659",
     "status": "completed"
    },
    "tags": []
   },
   "source": [
    "#### Veriyi anlama ve veriyi analiz etme veri bilimcide olması gereken en önemli özelliklerdendir."
   ]
  },
  {
   "cell_type": "markdown",
   "id": "2a165526",
   "metadata": {
    "papermill": {
     "duration": 0.015978,
     "end_time": "2023-03-23T13:37:40.374774",
     "exception": false,
     "start_time": "2023-03-23T13:37:40.358796",
     "status": "completed"
    },
    "tags": []
   },
   "source": [
    "![](https://cdn-images-1.medium.com/max/900/0*d0zoc3JZ2uwDwjuC)\n",
    "\n",
    "[Unsplash](https://unsplash.com/?utm_source=medium&utm_medium=referral)'de [Eduardo Soares](https://unsplash.com/@eduschadesoares?utm_source=medium&utm_medium=referral) tarafından bir fotoğraf "
   ]
  },
  {
   "cell_type": "markdown",
   "id": "973c802b",
   "metadata": {
    "papermill": {
     "duration": 0.015841,
     "end_time": "2023-03-23T13:37:40.406935",
     "exception": false,
     "start_time": "2023-03-23T13:37:40.391094",
     "status": "completed"
    },
    "tags": []
   },
   "source": [
    "---"
   ]
  },
  {
   "cell_type": "markdown",
   "id": "c20904db",
   "metadata": {
    "papermill": {
     "duration": 0.015758,
     "end_time": "2023-03-23T13:37:40.438964",
     "exception": false,
     "start_time": "2023-03-23T13:37:40.423206",
     "status": "completed"
    },
    "tags": []
   },
   "source": [
    "Bu yazımda beraber bir kısa bi veri analizi yapıcaz."
   ]
  },
  {
   "cell_type": "markdown",
   "id": "9cfb994a",
   "metadata": {
    "papermill": {
     "duration": 0.015665,
     "end_time": "2023-03-23T13:37:40.470683",
     "exception": false,
     "start_time": "2023-03-23T13:37:40.455018",
     "status": "completed"
    },
    "tags": []
   },
   "source": [
    "Yazımda [**supermarket verisetini**](https://www.kaggle.com/datasets/aungpyaeap/supermarket-sales) kullanıcam."
   ]
  },
  {
   "cell_type": "markdown",
   "id": "afc31f8b",
   "metadata": {
    "papermill": {
     "duration": 0.015547,
     "end_time": "2023-03-23T13:37:40.502136",
     "exception": false,
     "start_time": "2023-03-23T13:37:40.486589",
     "status": "completed"
    },
    "tags": []
   },
   "source": [
    "## **Hadi başlayım o zaman!**"
   ]
  },
  {
   "cell_type": "markdown",
   "id": "a28be244",
   "metadata": {
    "papermill": {
     "duration": 0.015663,
     "end_time": "2023-03-23T13:37:40.533970",
     "exception": false,
     "start_time": "2023-03-23T13:37:40.518307",
     "status": "completed"
    },
    "tags": []
   },
   "source": [
    "# Gerekli kütüphaneleri ekleyelim"
   ]
  },
  {
   "cell_type": "code",
   "execution_count": 1,
   "id": "1f7cfd5b",
   "metadata": {
    "execution": {
     "iopub.execute_input": "2023-03-23T13:37:40.568509Z",
     "iopub.status.busy": "2023-03-23T13:37:40.567878Z",
     "iopub.status.idle": "2023-03-23T13:37:41.679836Z",
     "shell.execute_reply": "2023-03-23T13:37:41.678586Z"
    },
    "papermill": {
     "duration": 1.132793,
     "end_time": "2023-03-23T13:37:41.682732",
     "exception": false,
     "start_time": "2023-03-23T13:37:40.549939",
     "status": "completed"
    },
    "tags": []
   },
   "outputs": [],
   "source": [
    "import numpy as np\n",
    "# NumPy kütüphanesi sayısal işlemleri hızlı ve kolay yapmak için\n",
    "\n",
    "import pandas as pd\n",
    "# pandas DataFrameler ile ilgili operasyonlar için\n",
    "\n",
    "import seaborn as sns\n",
    "# seaborn veri görselleştirme kütüphanesi\n",
    "\n",
    "import matplotlib.pyplot as plt\n",
    "# matplotlib de veri görselleştirme kütüphanesi\n",
    "%matplotlib inline\n",
    "\n",
    "import warnings\n",
    "# Bazı gereksiz hataları göstermemek için\n",
    "warnings.filterwarnings(\"ignore\")"
   ]
  },
  {
   "cell_type": "markdown",
   "id": "756fae68",
   "metadata": {
    "papermill": {
     "duration": 0.016091,
     "end_time": "2023-03-23T13:37:41.715366",
     "exception": false,
     "start_time": "2023-03-23T13:37:41.699275",
     "status": "completed"
    },
    "tags": []
   },
   "source": [
    "# Verimizi okuyalım"
   ]
  },
  {
   "cell_type": "markdown",
   "id": "fec29b75",
   "metadata": {
    "papermill": {
     "duration": 0.015875,
     "end_time": "2023-03-23T13:37:41.747566",
     "exception": false,
     "start_time": "2023-03-23T13:37:41.731691",
     "status": "completed"
    },
    "tags": []
   },
   "source": [
    "Eğer veri nasıl okunur bilmiyorsanız [**bu yazıyı**](https://www.kaggle.com/code/ahmettalhabektastr/veri-d-nyas-na-lk-ad-mlar) okumanızı tavsiye ediyorum."
   ]
  },
  {
   "cell_type": "code",
   "execution_count": 2,
   "id": "7229b23f",
   "metadata": {
    "execution": {
     "iopub.execute_input": "2023-03-23T13:37:41.781332Z",
     "iopub.status.busy": "2023-03-23T13:37:41.780949Z",
     "iopub.status.idle": "2023-03-23T13:37:41.815629Z",
     "shell.execute_reply": "2023-03-23T13:37:41.814707Z"
    },
    "papermill": {
     "duration": 0.054719,
     "end_time": "2023-03-23T13:37:41.818292",
     "exception": false,
     "start_time": "2023-03-23T13:37:41.763573",
     "status": "completed"
    },
    "tags": []
   },
   "outputs": [],
   "source": [
    "df=pd.read_csv(\"/kaggle/input/supermarket-sales/supermarket_sales - Sheet1.csv\")\n",
    "#Pandas kullanarak veriyi okuyoruz"
   ]
  },
  {
   "cell_type": "markdown",
   "id": "5549698a",
   "metadata": {
    "papermill": {
     "duration": 0.016312,
     "end_time": "2023-03-23T13:37:41.850813",
     "exception": false,
     "start_time": "2023-03-23T13:37:41.834501",
     "status": "completed"
    },
    "tags": []
   },
   "source": [
    "# EDA"
   ]
  },
  {
   "cell_type": "markdown",
   "id": "2c88333d",
   "metadata": {
    "papermill": {
     "duration": 0.015597,
     "end_time": "2023-03-23T13:37:41.882388",
     "exception": false,
     "start_time": "2023-03-23T13:37:41.866791",
     "status": "completed"
    },
    "tags": []
   },
   "source": [
    "Eğer ki **EDA** ile tanışmadıysan ve **EDA**'yı tanımıyorsan [**bu yazıyı**](https://www.kaggle.com/code/ahmettalhabektastr/yeni-arkada-m-z-eda) okumalısın."
   ]
  },
  {
   "cell_type": "code",
   "execution_count": 3,
   "id": "b7108ffc",
   "metadata": {
    "execution": {
     "iopub.execute_input": "2023-03-23T13:37:41.916988Z",
     "iopub.status.busy": "2023-03-23T13:37:41.916131Z",
     "iopub.status.idle": "2023-03-23T13:37:41.948852Z",
     "shell.execute_reply": "2023-03-23T13:37:41.947564Z"
    },
    "papermill": {
     "duration": 0.053109,
     "end_time": "2023-03-23T13:37:41.951645",
     "exception": false,
     "start_time": "2023-03-23T13:37:41.898536",
     "status": "completed"
    },
    "tags": []
   },
   "outputs": [
    {
     "data": {
      "text/html": [
       "<div>\n",
       "<style scoped>\n",
       "    .dataframe tbody tr th:only-of-type {\n",
       "        vertical-align: middle;\n",
       "    }\n",
       "\n",
       "    .dataframe tbody tr th {\n",
       "        vertical-align: top;\n",
       "    }\n",
       "\n",
       "    .dataframe thead th {\n",
       "        text-align: right;\n",
       "    }\n",
       "</style>\n",
       "<table border=\"1\" class=\"dataframe\">\n",
       "  <thead>\n",
       "    <tr style=\"text-align: right;\">\n",
       "      <th></th>\n",
       "      <th>Invoice ID</th>\n",
       "      <th>Branch</th>\n",
       "      <th>City</th>\n",
       "      <th>Customer type</th>\n",
       "      <th>Gender</th>\n",
       "      <th>Product line</th>\n",
       "      <th>Unit price</th>\n",
       "      <th>Quantity</th>\n",
       "      <th>Tax 5%</th>\n",
       "      <th>Total</th>\n",
       "      <th>Date</th>\n",
       "      <th>Time</th>\n",
       "      <th>Payment</th>\n",
       "      <th>cogs</th>\n",
       "      <th>gross margin percentage</th>\n",
       "      <th>gross income</th>\n",
       "      <th>Rating</th>\n",
       "    </tr>\n",
       "  </thead>\n",
       "  <tbody>\n",
       "    <tr>\n",
       "      <th>0</th>\n",
       "      <td>750-67-8428</td>\n",
       "      <td>A</td>\n",
       "      <td>Yangon</td>\n",
       "      <td>Member</td>\n",
       "      <td>Female</td>\n",
       "      <td>Health and beauty</td>\n",
       "      <td>74.69</td>\n",
       "      <td>7</td>\n",
       "      <td>26.1415</td>\n",
       "      <td>548.9715</td>\n",
       "      <td>1/5/2019</td>\n",
       "      <td>13:08</td>\n",
       "      <td>Ewallet</td>\n",
       "      <td>522.83</td>\n",
       "      <td>4.761905</td>\n",
       "      <td>26.1415</td>\n",
       "      <td>9.1</td>\n",
       "    </tr>\n",
       "    <tr>\n",
       "      <th>1</th>\n",
       "      <td>226-31-3081</td>\n",
       "      <td>C</td>\n",
       "      <td>Naypyitaw</td>\n",
       "      <td>Normal</td>\n",
       "      <td>Female</td>\n",
       "      <td>Electronic accessories</td>\n",
       "      <td>15.28</td>\n",
       "      <td>5</td>\n",
       "      <td>3.8200</td>\n",
       "      <td>80.2200</td>\n",
       "      <td>3/8/2019</td>\n",
       "      <td>10:29</td>\n",
       "      <td>Cash</td>\n",
       "      <td>76.40</td>\n",
       "      <td>4.761905</td>\n",
       "      <td>3.8200</td>\n",
       "      <td>9.6</td>\n",
       "    </tr>\n",
       "    <tr>\n",
       "      <th>2</th>\n",
       "      <td>631-41-3108</td>\n",
       "      <td>A</td>\n",
       "      <td>Yangon</td>\n",
       "      <td>Normal</td>\n",
       "      <td>Male</td>\n",
       "      <td>Home and lifestyle</td>\n",
       "      <td>46.33</td>\n",
       "      <td>7</td>\n",
       "      <td>16.2155</td>\n",
       "      <td>340.5255</td>\n",
       "      <td>3/3/2019</td>\n",
       "      <td>13:23</td>\n",
       "      <td>Credit card</td>\n",
       "      <td>324.31</td>\n",
       "      <td>4.761905</td>\n",
       "      <td>16.2155</td>\n",
       "      <td>7.4</td>\n",
       "    </tr>\n",
       "    <tr>\n",
       "      <th>3</th>\n",
       "      <td>123-19-1176</td>\n",
       "      <td>A</td>\n",
       "      <td>Yangon</td>\n",
       "      <td>Member</td>\n",
       "      <td>Male</td>\n",
       "      <td>Health and beauty</td>\n",
       "      <td>58.22</td>\n",
       "      <td>8</td>\n",
       "      <td>23.2880</td>\n",
       "      <td>489.0480</td>\n",
       "      <td>1/27/2019</td>\n",
       "      <td>20:33</td>\n",
       "      <td>Ewallet</td>\n",
       "      <td>465.76</td>\n",
       "      <td>4.761905</td>\n",
       "      <td>23.2880</td>\n",
       "      <td>8.4</td>\n",
       "    </tr>\n",
       "    <tr>\n",
       "      <th>4</th>\n",
       "      <td>373-73-7910</td>\n",
       "      <td>A</td>\n",
       "      <td>Yangon</td>\n",
       "      <td>Normal</td>\n",
       "      <td>Male</td>\n",
       "      <td>Sports and travel</td>\n",
       "      <td>86.31</td>\n",
       "      <td>7</td>\n",
       "      <td>30.2085</td>\n",
       "      <td>634.3785</td>\n",
       "      <td>2/8/2019</td>\n",
       "      <td>10:37</td>\n",
       "      <td>Ewallet</td>\n",
       "      <td>604.17</td>\n",
       "      <td>4.761905</td>\n",
       "      <td>30.2085</td>\n",
       "      <td>5.3</td>\n",
       "    </tr>\n",
       "  </tbody>\n",
       "</table>\n",
       "</div>"
      ],
      "text/plain": [
       "    Invoice ID Branch       City Customer type  Gender  \\\n",
       "0  750-67-8428      A     Yangon        Member  Female   \n",
       "1  226-31-3081      C  Naypyitaw        Normal  Female   \n",
       "2  631-41-3108      A     Yangon        Normal    Male   \n",
       "3  123-19-1176      A     Yangon        Member    Male   \n",
       "4  373-73-7910      A     Yangon        Normal    Male   \n",
       "\n",
       "             Product line  Unit price  Quantity   Tax 5%     Total       Date  \\\n",
       "0       Health and beauty       74.69         7  26.1415  548.9715   1/5/2019   \n",
       "1  Electronic accessories       15.28         5   3.8200   80.2200   3/8/2019   \n",
       "2      Home and lifestyle       46.33         7  16.2155  340.5255   3/3/2019   \n",
       "3       Health and beauty       58.22         8  23.2880  489.0480  1/27/2019   \n",
       "4       Sports and travel       86.31         7  30.2085  634.3785   2/8/2019   \n",
       "\n",
       "    Time      Payment    cogs  gross margin percentage  gross income  Rating  \n",
       "0  13:08      Ewallet  522.83                 4.761905       26.1415     9.1  \n",
       "1  10:29         Cash   76.40                 4.761905        3.8200     9.6  \n",
       "2  13:23  Credit card  324.31                 4.761905       16.2155     7.4  \n",
       "3  20:33      Ewallet  465.76                 4.761905       23.2880     8.4  \n",
       "4  10:37      Ewallet  604.17                 4.761905       30.2085     5.3  "
      ]
     },
     "execution_count": 3,
     "metadata": {},
     "output_type": "execute_result"
    }
   ],
   "source": [
    "df.head()"
   ]
  },
  {
   "cell_type": "code",
   "execution_count": 4,
   "id": "0d7fb047",
   "metadata": {
    "execution": {
     "iopub.execute_input": "2023-03-23T13:37:41.987650Z",
     "iopub.status.busy": "2023-03-23T13:37:41.986829Z",
     "iopub.status.idle": "2023-03-23T13:37:42.008546Z",
     "shell.execute_reply": "2023-03-23T13:37:42.007367Z"
    },
    "papermill": {
     "duration": 0.042843,
     "end_time": "2023-03-23T13:37:42.010874",
     "exception": false,
     "start_time": "2023-03-23T13:37:41.968031",
     "status": "completed"
    },
    "tags": []
   },
   "outputs": [
    {
     "data": {
      "text/html": [
       "<div>\n",
       "<style scoped>\n",
       "    .dataframe tbody tr th:only-of-type {\n",
       "        vertical-align: middle;\n",
       "    }\n",
       "\n",
       "    .dataframe tbody tr th {\n",
       "        vertical-align: top;\n",
       "    }\n",
       "\n",
       "    .dataframe thead th {\n",
       "        text-align: right;\n",
       "    }\n",
       "</style>\n",
       "<table border=\"1\" class=\"dataframe\">\n",
       "  <thead>\n",
       "    <tr style=\"text-align: right;\">\n",
       "      <th></th>\n",
       "      <th>Invoice ID</th>\n",
       "      <th>Branch</th>\n",
       "      <th>City</th>\n",
       "      <th>Customer type</th>\n",
       "      <th>Gender</th>\n",
       "      <th>Product line</th>\n",
       "      <th>Unit price</th>\n",
       "      <th>Quantity</th>\n",
       "      <th>Tax 5%</th>\n",
       "      <th>Total</th>\n",
       "      <th>Date</th>\n",
       "      <th>Time</th>\n",
       "      <th>Payment</th>\n",
       "      <th>cogs</th>\n",
       "      <th>gross margin percentage</th>\n",
       "      <th>gross income</th>\n",
       "      <th>Rating</th>\n",
       "    </tr>\n",
       "  </thead>\n",
       "  <tbody>\n",
       "    <tr>\n",
       "      <th>995</th>\n",
       "      <td>233-67-5758</td>\n",
       "      <td>C</td>\n",
       "      <td>Naypyitaw</td>\n",
       "      <td>Normal</td>\n",
       "      <td>Male</td>\n",
       "      <td>Health and beauty</td>\n",
       "      <td>40.35</td>\n",
       "      <td>1</td>\n",
       "      <td>2.0175</td>\n",
       "      <td>42.3675</td>\n",
       "      <td>1/29/2019</td>\n",
       "      <td>13:46</td>\n",
       "      <td>Ewallet</td>\n",
       "      <td>40.35</td>\n",
       "      <td>4.761905</td>\n",
       "      <td>2.0175</td>\n",
       "      <td>6.2</td>\n",
       "    </tr>\n",
       "    <tr>\n",
       "      <th>996</th>\n",
       "      <td>303-96-2227</td>\n",
       "      <td>B</td>\n",
       "      <td>Mandalay</td>\n",
       "      <td>Normal</td>\n",
       "      <td>Female</td>\n",
       "      <td>Home and lifestyle</td>\n",
       "      <td>97.38</td>\n",
       "      <td>10</td>\n",
       "      <td>48.6900</td>\n",
       "      <td>1022.4900</td>\n",
       "      <td>3/2/2019</td>\n",
       "      <td>17:16</td>\n",
       "      <td>Ewallet</td>\n",
       "      <td>973.80</td>\n",
       "      <td>4.761905</td>\n",
       "      <td>48.6900</td>\n",
       "      <td>4.4</td>\n",
       "    </tr>\n",
       "    <tr>\n",
       "      <th>997</th>\n",
       "      <td>727-02-1313</td>\n",
       "      <td>A</td>\n",
       "      <td>Yangon</td>\n",
       "      <td>Member</td>\n",
       "      <td>Male</td>\n",
       "      <td>Food and beverages</td>\n",
       "      <td>31.84</td>\n",
       "      <td>1</td>\n",
       "      <td>1.5920</td>\n",
       "      <td>33.4320</td>\n",
       "      <td>2/9/2019</td>\n",
       "      <td>13:22</td>\n",
       "      <td>Cash</td>\n",
       "      <td>31.84</td>\n",
       "      <td>4.761905</td>\n",
       "      <td>1.5920</td>\n",
       "      <td>7.7</td>\n",
       "    </tr>\n",
       "    <tr>\n",
       "      <th>998</th>\n",
       "      <td>347-56-2442</td>\n",
       "      <td>A</td>\n",
       "      <td>Yangon</td>\n",
       "      <td>Normal</td>\n",
       "      <td>Male</td>\n",
       "      <td>Home and lifestyle</td>\n",
       "      <td>65.82</td>\n",
       "      <td>1</td>\n",
       "      <td>3.2910</td>\n",
       "      <td>69.1110</td>\n",
       "      <td>2/22/2019</td>\n",
       "      <td>15:33</td>\n",
       "      <td>Cash</td>\n",
       "      <td>65.82</td>\n",
       "      <td>4.761905</td>\n",
       "      <td>3.2910</td>\n",
       "      <td>4.1</td>\n",
       "    </tr>\n",
       "    <tr>\n",
       "      <th>999</th>\n",
       "      <td>849-09-3807</td>\n",
       "      <td>A</td>\n",
       "      <td>Yangon</td>\n",
       "      <td>Member</td>\n",
       "      <td>Female</td>\n",
       "      <td>Fashion accessories</td>\n",
       "      <td>88.34</td>\n",
       "      <td>7</td>\n",
       "      <td>30.9190</td>\n",
       "      <td>649.2990</td>\n",
       "      <td>2/18/2019</td>\n",
       "      <td>13:28</td>\n",
       "      <td>Cash</td>\n",
       "      <td>618.38</td>\n",
       "      <td>4.761905</td>\n",
       "      <td>30.9190</td>\n",
       "      <td>6.6</td>\n",
       "    </tr>\n",
       "  </tbody>\n",
       "</table>\n",
       "</div>"
      ],
      "text/plain": [
       "      Invoice ID Branch       City Customer type  Gender         Product line  \\\n",
       "995  233-67-5758      C  Naypyitaw        Normal    Male    Health and beauty   \n",
       "996  303-96-2227      B   Mandalay        Normal  Female   Home and lifestyle   \n",
       "997  727-02-1313      A     Yangon        Member    Male   Food and beverages   \n",
       "998  347-56-2442      A     Yangon        Normal    Male   Home and lifestyle   \n",
       "999  849-09-3807      A     Yangon        Member  Female  Fashion accessories   \n",
       "\n",
       "     Unit price  Quantity   Tax 5%      Total       Date   Time  Payment  \\\n",
       "995       40.35         1   2.0175    42.3675  1/29/2019  13:46  Ewallet   \n",
       "996       97.38        10  48.6900  1022.4900   3/2/2019  17:16  Ewallet   \n",
       "997       31.84         1   1.5920    33.4320   2/9/2019  13:22     Cash   \n",
       "998       65.82         1   3.2910    69.1110  2/22/2019  15:33     Cash   \n",
       "999       88.34         7  30.9190   649.2990  2/18/2019  13:28     Cash   \n",
       "\n",
       "       cogs  gross margin percentage  gross income  Rating  \n",
       "995   40.35                 4.761905        2.0175     6.2  \n",
       "996  973.80                 4.761905       48.6900     4.4  \n",
       "997   31.84                 4.761905        1.5920     7.7  \n",
       "998   65.82                 4.761905        3.2910     4.1  \n",
       "999  618.38                 4.761905       30.9190     6.6  "
      ]
     },
     "execution_count": 4,
     "metadata": {},
     "output_type": "execute_result"
    }
   ],
   "source": [
    "df.tail()"
   ]
  },
  {
   "cell_type": "code",
   "execution_count": 5,
   "id": "5272875a",
   "metadata": {
    "execution": {
     "iopub.execute_input": "2023-03-23T13:37:42.046377Z",
     "iopub.status.busy": "2023-03-23T13:37:42.045699Z",
     "iopub.status.idle": "2023-03-23T13:37:42.071857Z",
     "shell.execute_reply": "2023-03-23T13:37:42.070614Z"
    },
    "papermill": {
     "duration": 0.047207,
     "end_time": "2023-03-23T13:37:42.074751",
     "exception": false,
     "start_time": "2023-03-23T13:37:42.027544",
     "status": "completed"
    },
    "tags": []
   },
   "outputs": [
    {
     "name": "stdout",
     "output_type": "stream",
     "text": [
      "<class 'pandas.core.frame.DataFrame'>\n",
      "RangeIndex: 1000 entries, 0 to 999\n",
      "Data columns (total 17 columns):\n",
      " #   Column                   Non-Null Count  Dtype  \n",
      "---  ------                   --------------  -----  \n",
      " 0   Invoice ID               1000 non-null   object \n",
      " 1   Branch                   1000 non-null   object \n",
      " 2   City                     1000 non-null   object \n",
      " 3   Customer type            1000 non-null   object \n",
      " 4   Gender                   1000 non-null   object \n",
      " 5   Product line             1000 non-null   object \n",
      " 6   Unit price               1000 non-null   float64\n",
      " 7   Quantity                 1000 non-null   int64  \n",
      " 8   Tax 5%                   1000 non-null   float64\n",
      " 9   Total                    1000 non-null   float64\n",
      " 10  Date                     1000 non-null   object \n",
      " 11  Time                     1000 non-null   object \n",
      " 12  Payment                  1000 non-null   object \n",
      " 13  cogs                     1000 non-null   float64\n",
      " 14  gross margin percentage  1000 non-null   float64\n",
      " 15  gross income             1000 non-null   float64\n",
      " 16  Rating                   1000 non-null   float64\n",
      "dtypes: float64(7), int64(1), object(9)\n",
      "memory usage: 132.9+ KB\n"
     ]
    }
   ],
   "source": [
    "df.info()"
   ]
  },
  {
   "cell_type": "code",
   "execution_count": 6,
   "id": "65aa1515",
   "metadata": {
    "execution": {
     "iopub.execute_input": "2023-03-23T13:37:42.110868Z",
     "iopub.status.busy": "2023-03-23T13:37:42.110055Z",
     "iopub.status.idle": "2023-03-23T13:37:42.120344Z",
     "shell.execute_reply": "2023-03-23T13:37:42.119231Z"
    },
    "papermill": {
     "duration": 0.030861,
     "end_time": "2023-03-23T13:37:42.122637",
     "exception": false,
     "start_time": "2023-03-23T13:37:42.091776",
     "status": "completed"
    },
    "tags": []
   },
   "outputs": [
    {
     "data": {
      "text/plain": [
       "Invoice ID                 0\n",
       "Branch                     0\n",
       "City                       0\n",
       "Customer type              0\n",
       "Gender                     0\n",
       "Product line               0\n",
       "Unit price                 0\n",
       "Quantity                   0\n",
       "Tax 5%                     0\n",
       "Total                      0\n",
       "Date                       0\n",
       "Time                       0\n",
       "Payment                    0\n",
       "cogs                       0\n",
       "gross margin percentage    0\n",
       "gross income               0\n",
       "Rating                     0\n",
       "dtype: int64"
      ]
     },
     "execution_count": 6,
     "metadata": {},
     "output_type": "execute_result"
    }
   ],
   "source": [
    "df.isnull().sum()"
   ]
  },
  {
   "cell_type": "code",
   "execution_count": 7,
   "id": "34bfc1b6",
   "metadata": {
    "execution": {
     "iopub.execute_input": "2023-03-23T13:37:42.158654Z",
     "iopub.status.busy": "2023-03-23T13:37:42.157868Z",
     "iopub.status.idle": "2023-03-23T13:37:42.185298Z",
     "shell.execute_reply": "2023-03-23T13:37:42.184055Z"
    },
    "papermill": {
     "duration": 0.048518,
     "end_time": "2023-03-23T13:37:42.188047",
     "exception": false,
     "start_time": "2023-03-23T13:37:42.139529",
     "status": "completed"
    },
    "tags": []
   },
   "outputs": [
    {
     "data": {
      "text/html": [
       "<div>\n",
       "<style scoped>\n",
       "    .dataframe tbody tr th:only-of-type {\n",
       "        vertical-align: middle;\n",
       "    }\n",
       "\n",
       "    .dataframe tbody tr th {\n",
       "        vertical-align: top;\n",
       "    }\n",
       "\n",
       "    .dataframe thead th {\n",
       "        text-align: right;\n",
       "    }\n",
       "</style>\n",
       "<table border=\"1\" class=\"dataframe\">\n",
       "  <thead>\n",
       "    <tr style=\"text-align: right;\">\n",
       "      <th></th>\n",
       "      <th>Invoice ID</th>\n",
       "      <th>Branch</th>\n",
       "      <th>City</th>\n",
       "      <th>Customer type</th>\n",
       "      <th>Gender</th>\n",
       "      <th>Product line</th>\n",
       "      <th>Unit price</th>\n",
       "      <th>Quantity</th>\n",
       "      <th>Tax 5%</th>\n",
       "      <th>Total</th>\n",
       "      <th>Date</th>\n",
       "      <th>Time</th>\n",
       "      <th>Payment</th>\n",
       "      <th>cogs</th>\n",
       "      <th>gross margin percentage</th>\n",
       "      <th>gross income</th>\n",
       "      <th>Rating</th>\n",
       "    </tr>\n",
       "  </thead>\n",
       "  <tbody>\n",
       "    <tr>\n",
       "      <th>390</th>\n",
       "      <td>541-89-9860</td>\n",
       "      <td>C</td>\n",
       "      <td>Naypyitaw</td>\n",
       "      <td>Member</td>\n",
       "      <td>Female</td>\n",
       "      <td>Fashion accessories</td>\n",
       "      <td>80.48</td>\n",
       "      <td>3</td>\n",
       "      <td>12.0720</td>\n",
       "      <td>253.5120</td>\n",
       "      <td>2/15/2019</td>\n",
       "      <td>12:31</td>\n",
       "      <td>Cash</td>\n",
       "      <td>241.44</td>\n",
       "      <td>4.761905</td>\n",
       "      <td>12.0720</td>\n",
       "      <td>8.1</td>\n",
       "    </tr>\n",
       "    <tr>\n",
       "      <th>972</th>\n",
       "      <td>452-04-8808</td>\n",
       "      <td>B</td>\n",
       "      <td>Mandalay</td>\n",
       "      <td>Normal</td>\n",
       "      <td>Male</td>\n",
       "      <td>Electronic accessories</td>\n",
       "      <td>87.08</td>\n",
       "      <td>7</td>\n",
       "      <td>30.4780</td>\n",
       "      <td>640.0380</td>\n",
       "      <td>1/26/2019</td>\n",
       "      <td>15:17</td>\n",
       "      <td>Cash</td>\n",
       "      <td>609.56</td>\n",
       "      <td>4.761905</td>\n",
       "      <td>30.4780</td>\n",
       "      <td>5.5</td>\n",
       "    </tr>\n",
       "    <tr>\n",
       "      <th>746</th>\n",
       "      <td>457-13-1708</td>\n",
       "      <td>B</td>\n",
       "      <td>Mandalay</td>\n",
       "      <td>Member</td>\n",
       "      <td>Male</td>\n",
       "      <td>Fashion accessories</td>\n",
       "      <td>65.23</td>\n",
       "      <td>10</td>\n",
       "      <td>32.6150</td>\n",
       "      <td>684.9150</td>\n",
       "      <td>1/8/2019</td>\n",
       "      <td>19:07</td>\n",
       "      <td>Credit card</td>\n",
       "      <td>652.30</td>\n",
       "      <td>4.761905</td>\n",
       "      <td>32.6150</td>\n",
       "      <td>5.2</td>\n",
       "    </tr>\n",
       "    <tr>\n",
       "      <th>944</th>\n",
       "      <td>333-23-2632</td>\n",
       "      <td>A</td>\n",
       "      <td>Yangon</td>\n",
       "      <td>Member</td>\n",
       "      <td>Male</td>\n",
       "      <td>Health and beauty</td>\n",
       "      <td>10.08</td>\n",
       "      <td>7</td>\n",
       "      <td>3.5280</td>\n",
       "      <td>74.0880</td>\n",
       "      <td>3/28/2019</td>\n",
       "      <td>20:14</td>\n",
       "      <td>Cash</td>\n",
       "      <td>70.56</td>\n",
       "      <td>4.761905</td>\n",
       "      <td>3.5280</td>\n",
       "      <td>4.2</td>\n",
       "    </tr>\n",
       "    <tr>\n",
       "      <th>198</th>\n",
       "      <td>699-01-4164</td>\n",
       "      <td>C</td>\n",
       "      <td>Naypyitaw</td>\n",
       "      <td>Normal</td>\n",
       "      <td>Male</td>\n",
       "      <td>Health and beauty</td>\n",
       "      <td>41.50</td>\n",
       "      <td>4</td>\n",
       "      <td>8.3000</td>\n",
       "      <td>174.3000</td>\n",
       "      <td>3/12/2019</td>\n",
       "      <td>19:58</td>\n",
       "      <td>Credit card</td>\n",
       "      <td>166.00</td>\n",
       "      <td>4.761905</td>\n",
       "      <td>8.3000</td>\n",
       "      <td>8.2</td>\n",
       "    </tr>\n",
       "    <tr>\n",
       "      <th>187</th>\n",
       "      <td>732-04-5373</td>\n",
       "      <td>B</td>\n",
       "      <td>Mandalay</td>\n",
       "      <td>Member</td>\n",
       "      <td>Male</td>\n",
       "      <td>Home and lifestyle</td>\n",
       "      <td>46.47</td>\n",
       "      <td>4</td>\n",
       "      <td>9.2940</td>\n",
       "      <td>195.1740</td>\n",
       "      <td>2/8/2019</td>\n",
       "      <td>10:53</td>\n",
       "      <td>Cash</td>\n",
       "      <td>185.88</td>\n",
       "      <td>4.761905</td>\n",
       "      <td>9.2940</td>\n",
       "      <td>7.0</td>\n",
       "    </tr>\n",
       "    <tr>\n",
       "      <th>751</th>\n",
       "      <td>585-86-8361</td>\n",
       "      <td>A</td>\n",
       "      <td>Yangon</td>\n",
       "      <td>Normal</td>\n",
       "      <td>Female</td>\n",
       "      <td>Food and beverages</td>\n",
       "      <td>27.28</td>\n",
       "      <td>5</td>\n",
       "      <td>6.8200</td>\n",
       "      <td>143.2200</td>\n",
       "      <td>2/3/2019</td>\n",
       "      <td>10:31</td>\n",
       "      <td>Credit card</td>\n",
       "      <td>136.40</td>\n",
       "      <td>4.761905</td>\n",
       "      <td>6.8200</td>\n",
       "      <td>8.6</td>\n",
       "    </tr>\n",
       "    <tr>\n",
       "      <th>659</th>\n",
       "      <td>491-38-3499</td>\n",
       "      <td>A</td>\n",
       "      <td>Yangon</td>\n",
       "      <td>Member</td>\n",
       "      <td>Male</td>\n",
       "      <td>Fashion accessories</td>\n",
       "      <td>55.45</td>\n",
       "      <td>1</td>\n",
       "      <td>2.7725</td>\n",
       "      <td>58.2225</td>\n",
       "      <td>2/26/2019</td>\n",
       "      <td>17:46</td>\n",
       "      <td>Credit card</td>\n",
       "      <td>55.45</td>\n",
       "      <td>4.761905</td>\n",
       "      <td>2.7725</td>\n",
       "      <td>4.9</td>\n",
       "    </tr>\n",
       "    <tr>\n",
       "      <th>232</th>\n",
       "      <td>418-02-5978</td>\n",
       "      <td>B</td>\n",
       "      <td>Mandalay</td>\n",
       "      <td>Normal</td>\n",
       "      <td>Female</td>\n",
       "      <td>Health and beauty</td>\n",
       "      <td>84.09</td>\n",
       "      <td>9</td>\n",
       "      <td>37.8405</td>\n",
       "      <td>794.6505</td>\n",
       "      <td>2/11/2019</td>\n",
       "      <td>10:54</td>\n",
       "      <td>Cash</td>\n",
       "      <td>756.81</td>\n",
       "      <td>4.761905</td>\n",
       "      <td>37.8405</td>\n",
       "      <td>8.0</td>\n",
       "    </tr>\n",
       "    <tr>\n",
       "      <th>307</th>\n",
       "      <td>803-17-8013</td>\n",
       "      <td>A</td>\n",
       "      <td>Yangon</td>\n",
       "      <td>Member</td>\n",
       "      <td>Female</td>\n",
       "      <td>Home and lifestyle</td>\n",
       "      <td>88.79</td>\n",
       "      <td>8</td>\n",
       "      <td>35.5160</td>\n",
       "      <td>745.8360</td>\n",
       "      <td>2/17/2019</td>\n",
       "      <td>17:09</td>\n",
       "      <td>Cash</td>\n",
       "      <td>710.32</td>\n",
       "      <td>4.761905</td>\n",
       "      <td>35.5160</td>\n",
       "      <td>4.1</td>\n",
       "    </tr>\n",
       "  </tbody>\n",
       "</table>\n",
       "</div>"
      ],
      "text/plain": [
       "      Invoice ID Branch       City Customer type  Gender  \\\n",
       "390  541-89-9860      C  Naypyitaw        Member  Female   \n",
       "972  452-04-8808      B   Mandalay        Normal    Male   \n",
       "746  457-13-1708      B   Mandalay        Member    Male   \n",
       "944  333-23-2632      A     Yangon        Member    Male   \n",
       "198  699-01-4164      C  Naypyitaw        Normal    Male   \n",
       "187  732-04-5373      B   Mandalay        Member    Male   \n",
       "751  585-86-8361      A     Yangon        Normal  Female   \n",
       "659  491-38-3499      A     Yangon        Member    Male   \n",
       "232  418-02-5978      B   Mandalay        Normal  Female   \n",
       "307  803-17-8013      A     Yangon        Member  Female   \n",
       "\n",
       "               Product line  Unit price  Quantity   Tax 5%     Total  \\\n",
       "390     Fashion accessories       80.48         3  12.0720  253.5120   \n",
       "972  Electronic accessories       87.08         7  30.4780  640.0380   \n",
       "746     Fashion accessories       65.23        10  32.6150  684.9150   \n",
       "944       Health and beauty       10.08         7   3.5280   74.0880   \n",
       "198       Health and beauty       41.50         4   8.3000  174.3000   \n",
       "187      Home and lifestyle       46.47         4   9.2940  195.1740   \n",
       "751      Food and beverages       27.28         5   6.8200  143.2200   \n",
       "659     Fashion accessories       55.45         1   2.7725   58.2225   \n",
       "232       Health and beauty       84.09         9  37.8405  794.6505   \n",
       "307      Home and lifestyle       88.79         8  35.5160  745.8360   \n",
       "\n",
       "          Date   Time      Payment    cogs  gross margin percentage  \\\n",
       "390  2/15/2019  12:31         Cash  241.44                 4.761905   \n",
       "972  1/26/2019  15:17         Cash  609.56                 4.761905   \n",
       "746   1/8/2019  19:07  Credit card  652.30                 4.761905   \n",
       "944  3/28/2019  20:14         Cash   70.56                 4.761905   \n",
       "198  3/12/2019  19:58  Credit card  166.00                 4.761905   \n",
       "187   2/8/2019  10:53         Cash  185.88                 4.761905   \n",
       "751   2/3/2019  10:31  Credit card  136.40                 4.761905   \n",
       "659  2/26/2019  17:46  Credit card   55.45                 4.761905   \n",
       "232  2/11/2019  10:54         Cash  756.81                 4.761905   \n",
       "307  2/17/2019  17:09         Cash  710.32                 4.761905   \n",
       "\n",
       "     gross income  Rating  \n",
       "390       12.0720     8.1  \n",
       "972       30.4780     5.5  \n",
       "746       32.6150     5.2  \n",
       "944        3.5280     4.2  \n",
       "198        8.3000     8.2  \n",
       "187        9.2940     7.0  \n",
       "751        6.8200     8.6  \n",
       "659        2.7725     4.9  \n",
       "232       37.8405     8.0  \n",
       "307       35.5160     4.1  "
      ]
     },
     "execution_count": 7,
     "metadata": {},
     "output_type": "execute_result"
    }
   ],
   "source": [
    "df.sample(10)"
   ]
  },
  {
   "cell_type": "markdown",
   "id": "f2416a92",
   "metadata": {
    "papermill": {
     "duration": 0.016971,
     "end_time": "2023-03-23T13:37:42.222983",
     "exception": false,
     "start_time": "2023-03-23T13:37:42.206012",
     "status": "completed"
    },
    "tags": []
   },
   "source": [
    "# Derine inelim"
   ]
  },
  {
   "cell_type": "code",
   "execution_count": 8,
   "id": "801bc559",
   "metadata": {
    "execution": {
     "iopub.execute_input": "2023-03-23T13:37:42.259694Z",
     "iopub.status.busy": "2023-03-23T13:37:42.259319Z",
     "iopub.status.idle": "2023-03-23T13:37:42.266811Z",
     "shell.execute_reply": "2023-03-23T13:37:42.265617Z"
    },
    "papermill": {
     "duration": 0.028665,
     "end_time": "2023-03-23T13:37:42.269134",
     "exception": false,
     "start_time": "2023-03-23T13:37:42.240469",
     "status": "completed"
    },
    "tags": []
   },
   "outputs": [
    {
     "data": {
      "text/plain": [
       "array(['Yangon', 'Naypyitaw', 'Mandalay'], dtype=object)"
      ]
     },
     "execution_count": 8,
     "metadata": {},
     "output_type": "execute_result"
    }
   ],
   "source": [
    "df[\"City\"].unique()\n",
    "#City sütununun değerleri"
   ]
  },
  {
   "cell_type": "code",
   "execution_count": 9,
   "id": "5a2e1187",
   "metadata": {
    "execution": {
     "iopub.execute_input": "2023-03-23T13:37:42.305904Z",
     "iopub.status.busy": "2023-03-23T13:37:42.305477Z",
     "iopub.status.idle": "2023-03-23T13:37:42.312753Z",
     "shell.execute_reply": "2023-03-23T13:37:42.311859Z"
    },
    "papermill": {
     "duration": 0.0284,
     "end_time": "2023-03-23T13:37:42.314994",
     "exception": false,
     "start_time": "2023-03-23T13:37:42.286594",
     "status": "completed"
    },
    "tags": []
   },
   "outputs": [
    {
     "data": {
      "text/plain": [
       "3"
      ]
     },
     "execution_count": 9,
     "metadata": {},
     "output_type": "execute_result"
    }
   ],
   "source": [
    "df.Branch.nunique()\n",
    "#Kaç tane şube var"
   ]
  },
  {
   "cell_type": "code",
   "execution_count": 10,
   "id": "236ae755",
   "metadata": {
    "execution": {
     "iopub.execute_input": "2023-03-23T13:37:42.353831Z",
     "iopub.status.busy": "2023-03-23T13:37:42.353070Z",
     "iopub.status.idle": "2023-03-23T13:37:42.359695Z",
     "shell.execute_reply": "2023-03-23T13:37:42.358830Z"
    },
    "papermill": {
     "duration": 0.028913,
     "end_time": "2023-03-23T13:37:42.362134",
     "exception": false,
     "start_time": "2023-03-23T13:37:42.333221",
     "status": "completed"
    },
    "tags": []
   },
   "outputs": [
    {
     "data": {
      "text/plain": [
       "array(['A', 'C', 'B'], dtype=object)"
      ]
     },
     "execution_count": 10,
     "metadata": {},
     "output_type": "execute_result"
    }
   ],
   "source": [
    "df.Branch.unique()\n",
    "#Şube isimleri"
   ]
  },
  {
   "cell_type": "code",
   "execution_count": 11,
   "id": "5c2954d3",
   "metadata": {
    "execution": {
     "iopub.execute_input": "2023-03-23T13:37:42.400535Z",
     "iopub.status.busy": "2023-03-23T13:37:42.399598Z",
     "iopub.status.idle": "2023-03-23T13:37:42.406026Z",
     "shell.execute_reply": "2023-03-23T13:37:42.405208Z"
    },
    "papermill": {
     "duration": 0.027983,
     "end_time": "2023-03-23T13:37:42.408121",
     "exception": false,
     "start_time": "2023-03-23T13:37:42.380138",
     "status": "completed"
    },
    "tags": []
   },
   "outputs": [
    {
     "data": {
      "text/plain": [
       "1042.65"
      ]
     },
     "execution_count": 11,
     "metadata": {},
     "output_type": "execute_result"
    }
   ],
   "source": [
    "df.Total.max()\n",
    "#En fazla tutan fiş"
   ]
  },
  {
   "cell_type": "code",
   "execution_count": 12,
   "id": "af3b9b01",
   "metadata": {
    "execution": {
     "iopub.execute_input": "2023-03-23T13:37:42.447043Z",
     "iopub.status.busy": "2023-03-23T13:37:42.446298Z",
     "iopub.status.idle": "2023-03-23T13:37:42.458603Z",
     "shell.execute_reply": "2023-03-23T13:37:42.457732Z"
    },
    "papermill": {
     "duration": 0.034191,
     "end_time": "2023-03-23T13:37:42.460707",
     "exception": false,
     "start_time": "2023-03-23T13:37:42.426516",
     "status": "completed"
    },
    "tags": []
   },
   "outputs": [
    {
     "data": {
      "text/plain": [
       "(1042.65,\n",
       " 10.6785,\n",
       " 245.88533510097187,\n",
       " 60459.598017717224,\n",
       " 322.966749,\n",
       " 0     87.2340\n",
       " 1     93.7440\n",
       " 2    175.9170\n",
       " 3    189.0945\n",
       " 4    216.8460\n",
       " 5    217.6335\n",
       " 6    263.9700\n",
       " 7    276.9480\n",
       " 8    470.9880\n",
       " 9    829.0800\n",
       " dtype: float64)"
      ]
     },
     "execution_count": 12,
     "metadata": {},
     "output_type": "execute_result"
    }
   ],
   "source": [
    "df.Total.max(),df.Total.min(),df.Total.std(),df.Total.var(),df.Total.mean(),df.Total.mode()\n",
    "#Birçok istatiksel değerler:\n",
    "#sırasıyla: Maksimum, Minimum, Standart sapma, Varyans, Ortalama ve Mod"
   ]
  },
  {
   "cell_type": "code",
   "execution_count": 13,
   "id": "e99623df",
   "metadata": {
    "execution": {
     "iopub.execute_input": "2023-03-23T13:37:42.499966Z",
     "iopub.status.busy": "2023-03-23T13:37:42.499188Z",
     "iopub.status.idle": "2023-03-23T13:37:42.536782Z",
     "shell.execute_reply": "2023-03-23T13:37:42.535419Z"
    },
    "papermill": {
     "duration": 0.059846,
     "end_time": "2023-03-23T13:37:42.539275",
     "exception": false,
     "start_time": "2023-03-23T13:37:42.479429",
     "status": "completed"
    },
    "tags": []
   },
   "outputs": [
    {
     "data": {
      "text/html": [
       "<div>\n",
       "<style scoped>\n",
       "    .dataframe tbody tr th:only-of-type {\n",
       "        vertical-align: middle;\n",
       "    }\n",
       "\n",
       "    .dataframe tbody tr th {\n",
       "        vertical-align: top;\n",
       "    }\n",
       "\n",
       "    .dataframe thead th {\n",
       "        text-align: right;\n",
       "    }\n",
       "</style>\n",
       "<table border=\"1\" class=\"dataframe\">\n",
       "  <thead>\n",
       "    <tr style=\"text-align: right;\">\n",
       "      <th></th>\n",
       "      <th>Unit price</th>\n",
       "      <th>Quantity</th>\n",
       "      <th>Tax 5%</th>\n",
       "      <th>Total</th>\n",
       "      <th>cogs</th>\n",
       "      <th>gross margin percentage</th>\n",
       "      <th>gross income</th>\n",
       "      <th>Rating</th>\n",
       "    </tr>\n",
       "  </thead>\n",
       "  <tbody>\n",
       "    <tr>\n",
       "      <th>count</th>\n",
       "      <td>1000.000000</td>\n",
       "      <td>1000.000000</td>\n",
       "      <td>1000.000000</td>\n",
       "      <td>1000.000000</td>\n",
       "      <td>1000.00000</td>\n",
       "      <td>1000.000000</td>\n",
       "      <td>1000.000000</td>\n",
       "      <td>1000.00000</td>\n",
       "    </tr>\n",
       "    <tr>\n",
       "      <th>mean</th>\n",
       "      <td>55.672130</td>\n",
       "      <td>5.510000</td>\n",
       "      <td>15.379369</td>\n",
       "      <td>322.966749</td>\n",
       "      <td>307.58738</td>\n",
       "      <td>4.761905</td>\n",
       "      <td>15.379369</td>\n",
       "      <td>6.97270</td>\n",
       "    </tr>\n",
       "    <tr>\n",
       "      <th>std</th>\n",
       "      <td>26.494628</td>\n",
       "      <td>2.923431</td>\n",
       "      <td>11.708825</td>\n",
       "      <td>245.885335</td>\n",
       "      <td>234.17651</td>\n",
       "      <td>0.000000</td>\n",
       "      <td>11.708825</td>\n",
       "      <td>1.71858</td>\n",
       "    </tr>\n",
       "    <tr>\n",
       "      <th>min</th>\n",
       "      <td>10.080000</td>\n",
       "      <td>1.000000</td>\n",
       "      <td>0.508500</td>\n",
       "      <td>10.678500</td>\n",
       "      <td>10.17000</td>\n",
       "      <td>4.761905</td>\n",
       "      <td>0.508500</td>\n",
       "      <td>4.00000</td>\n",
       "    </tr>\n",
       "    <tr>\n",
       "      <th>25%</th>\n",
       "      <td>32.875000</td>\n",
       "      <td>3.000000</td>\n",
       "      <td>5.924875</td>\n",
       "      <td>124.422375</td>\n",
       "      <td>118.49750</td>\n",
       "      <td>4.761905</td>\n",
       "      <td>5.924875</td>\n",
       "      <td>5.50000</td>\n",
       "    </tr>\n",
       "    <tr>\n",
       "      <th>50%</th>\n",
       "      <td>55.230000</td>\n",
       "      <td>5.000000</td>\n",
       "      <td>12.088000</td>\n",
       "      <td>253.848000</td>\n",
       "      <td>241.76000</td>\n",
       "      <td>4.761905</td>\n",
       "      <td>12.088000</td>\n",
       "      <td>7.00000</td>\n",
       "    </tr>\n",
       "    <tr>\n",
       "      <th>75%</th>\n",
       "      <td>77.935000</td>\n",
       "      <td>8.000000</td>\n",
       "      <td>22.445250</td>\n",
       "      <td>471.350250</td>\n",
       "      <td>448.90500</td>\n",
       "      <td>4.761905</td>\n",
       "      <td>22.445250</td>\n",
       "      <td>8.50000</td>\n",
       "    </tr>\n",
       "    <tr>\n",
       "      <th>max</th>\n",
       "      <td>99.960000</td>\n",
       "      <td>10.000000</td>\n",
       "      <td>49.650000</td>\n",
       "      <td>1042.650000</td>\n",
       "      <td>993.00000</td>\n",
       "      <td>4.761905</td>\n",
       "      <td>49.650000</td>\n",
       "      <td>10.00000</td>\n",
       "    </tr>\n",
       "  </tbody>\n",
       "</table>\n",
       "</div>"
      ],
      "text/plain": [
       "        Unit price     Quantity       Tax 5%        Total        cogs  \\\n",
       "count  1000.000000  1000.000000  1000.000000  1000.000000  1000.00000   \n",
       "mean     55.672130     5.510000    15.379369   322.966749   307.58738   \n",
       "std      26.494628     2.923431    11.708825   245.885335   234.17651   \n",
       "min      10.080000     1.000000     0.508500    10.678500    10.17000   \n",
       "25%      32.875000     3.000000     5.924875   124.422375   118.49750   \n",
       "50%      55.230000     5.000000    12.088000   253.848000   241.76000   \n",
       "75%      77.935000     8.000000    22.445250   471.350250   448.90500   \n",
       "max      99.960000    10.000000    49.650000  1042.650000   993.00000   \n",
       "\n",
       "       gross margin percentage  gross income      Rating  \n",
       "count              1000.000000   1000.000000  1000.00000  \n",
       "mean                  4.761905     15.379369     6.97270  \n",
       "std                   0.000000     11.708825     1.71858  \n",
       "min                   4.761905      0.508500     4.00000  \n",
       "25%                   4.761905      5.924875     5.50000  \n",
       "50%                   4.761905     12.088000     7.00000  \n",
       "75%                   4.761905     22.445250     8.50000  \n",
       "max                   4.761905     49.650000    10.00000  "
      ]
     },
     "execution_count": 13,
     "metadata": {},
     "output_type": "execute_result"
    }
   ],
   "source": [
    "df.describe()"
   ]
  },
  {
   "cell_type": "code",
   "execution_count": 14,
   "id": "40d40304",
   "metadata": {
    "execution": {
     "iopub.execute_input": "2023-03-23T13:37:42.578022Z",
     "iopub.status.busy": "2023-03-23T13:37:42.577605Z",
     "iopub.status.idle": "2023-03-23T13:37:42.608029Z",
     "shell.execute_reply": "2023-03-23T13:37:42.606694Z"
    },
    "papermill": {
     "duration": 0.05293,
     "end_time": "2023-03-23T13:37:42.610721",
     "exception": false,
     "start_time": "2023-03-23T13:37:42.557791",
     "status": "completed"
    },
    "tags": []
   },
   "outputs": [
    {
     "data": {
      "text/html": [
       "<div>\n",
       "<style scoped>\n",
       "    .dataframe tbody tr th:only-of-type {\n",
       "        vertical-align: middle;\n",
       "    }\n",
       "\n",
       "    .dataframe tbody tr th {\n",
       "        vertical-align: top;\n",
       "    }\n",
       "\n",
       "    .dataframe thead th {\n",
       "        text-align: right;\n",
       "    }\n",
       "</style>\n",
       "<table border=\"1\" class=\"dataframe\">\n",
       "  <thead>\n",
       "    <tr style=\"text-align: right;\">\n",
       "      <th></th>\n",
       "      <th>Invoice ID</th>\n",
       "      <th>Branch</th>\n",
       "      <th>City</th>\n",
       "      <th>Customer type</th>\n",
       "      <th>Gender</th>\n",
       "      <th>Product line</th>\n",
       "      <th>Date</th>\n",
       "      <th>Time</th>\n",
       "      <th>Payment</th>\n",
       "    </tr>\n",
       "  </thead>\n",
       "  <tbody>\n",
       "    <tr>\n",
       "      <th>count</th>\n",
       "      <td>1000</td>\n",
       "      <td>1000</td>\n",
       "      <td>1000</td>\n",
       "      <td>1000</td>\n",
       "      <td>1000</td>\n",
       "      <td>1000</td>\n",
       "      <td>1000</td>\n",
       "      <td>1000</td>\n",
       "      <td>1000</td>\n",
       "    </tr>\n",
       "    <tr>\n",
       "      <th>unique</th>\n",
       "      <td>1000</td>\n",
       "      <td>3</td>\n",
       "      <td>3</td>\n",
       "      <td>2</td>\n",
       "      <td>2</td>\n",
       "      <td>6</td>\n",
       "      <td>89</td>\n",
       "      <td>506</td>\n",
       "      <td>3</td>\n",
       "    </tr>\n",
       "    <tr>\n",
       "      <th>top</th>\n",
       "      <td>750-67-8428</td>\n",
       "      <td>A</td>\n",
       "      <td>Yangon</td>\n",
       "      <td>Member</td>\n",
       "      <td>Female</td>\n",
       "      <td>Fashion accessories</td>\n",
       "      <td>2/7/2019</td>\n",
       "      <td>19:48</td>\n",
       "      <td>Ewallet</td>\n",
       "    </tr>\n",
       "    <tr>\n",
       "      <th>freq</th>\n",
       "      <td>1</td>\n",
       "      <td>340</td>\n",
       "      <td>340</td>\n",
       "      <td>501</td>\n",
       "      <td>501</td>\n",
       "      <td>178</td>\n",
       "      <td>20</td>\n",
       "      <td>7</td>\n",
       "      <td>345</td>\n",
       "    </tr>\n",
       "  </tbody>\n",
       "</table>\n",
       "</div>"
      ],
      "text/plain": [
       "         Invoice ID Branch    City Customer type  Gender         Product line  \\\n",
       "count          1000   1000    1000          1000    1000                 1000   \n",
       "unique         1000      3       3             2       2                    6   \n",
       "top     750-67-8428      A  Yangon        Member  Female  Fashion accessories   \n",
       "freq              1    340     340           501     501                  178   \n",
       "\n",
       "            Date   Time  Payment  \n",
       "count       1000   1000     1000  \n",
       "unique        89    506        3  \n",
       "top     2/7/2019  19:48  Ewallet  \n",
       "freq          20      7      345  "
      ]
     },
     "execution_count": 14,
     "metadata": {},
     "output_type": "execute_result"
    }
   ],
   "source": [
    "df.describe(include=\"O\")\n",
    "#Object verilerin değerleri"
   ]
  },
  {
   "cell_type": "markdown",
   "id": "91f883e6",
   "metadata": {
    "papermill": {
     "duration": 0.018669,
     "end_time": "2023-03-23T13:37:42.648091",
     "exception": false,
     "start_time": "2023-03-23T13:37:42.629422",
     "status": "completed"
    },
    "tags": []
   },
   "source": [
    "# Tarih verileri ile uğraşma"
   ]
  },
  {
   "cell_type": "code",
   "execution_count": 15,
   "id": "0cfa69d2",
   "metadata": {
    "execution": {
     "iopub.execute_input": "2023-03-23T13:37:42.687161Z",
     "iopub.status.busy": "2023-03-23T13:37:42.686680Z",
     "iopub.status.idle": "2023-03-23T13:37:42.702183Z",
     "shell.execute_reply": "2023-03-23T13:37:42.700689Z"
    },
    "papermill": {
     "duration": 0.038058,
     "end_time": "2023-03-23T13:37:42.704603",
     "exception": false,
     "start_time": "2023-03-23T13:37:42.666545",
     "status": "completed"
    },
    "tags": []
   },
   "outputs": [
    {
     "name": "stdout",
     "output_type": "stream",
     "text": [
      "<class 'pandas.core.frame.DataFrame'>\n",
      "RangeIndex: 1000 entries, 0 to 999\n",
      "Data columns (total 17 columns):\n",
      " #   Column                   Non-Null Count  Dtype  \n",
      "---  ------                   --------------  -----  \n",
      " 0   Invoice ID               1000 non-null   object \n",
      " 1   Branch                   1000 non-null   object \n",
      " 2   City                     1000 non-null   object \n",
      " 3   Customer type            1000 non-null   object \n",
      " 4   Gender                   1000 non-null   object \n",
      " 5   Product line             1000 non-null   object \n",
      " 6   Unit price               1000 non-null   float64\n",
      " 7   Quantity                 1000 non-null   int64  \n",
      " 8   Tax 5%                   1000 non-null   float64\n",
      " 9   Total                    1000 non-null   float64\n",
      " 10  Date                     1000 non-null   object \n",
      " 11  Time                     1000 non-null   object \n",
      " 12  Payment                  1000 non-null   object \n",
      " 13  cogs                     1000 non-null   float64\n",
      " 14  gross margin percentage  1000 non-null   float64\n",
      " 15  gross income             1000 non-null   float64\n",
      " 16  Rating                   1000 non-null   float64\n",
      "dtypes: float64(7), int64(1), object(9)\n",
      "memory usage: 132.9+ KB\n"
     ]
    }
   ],
   "source": [
    "df.info()"
   ]
  },
  {
   "cell_type": "code",
   "execution_count": 16,
   "id": "15333091",
   "metadata": {
    "execution": {
     "iopub.execute_input": "2023-03-23T13:37:42.744725Z",
     "iopub.status.busy": "2023-03-23T13:37:42.744322Z",
     "iopub.status.idle": "2023-03-23T13:37:42.762333Z",
     "shell.execute_reply": "2023-03-23T13:37:42.760959Z"
    },
    "papermill": {
     "duration": 0.041577,
     "end_time": "2023-03-23T13:37:42.764890",
     "exception": false,
     "start_time": "2023-03-23T13:37:42.723313",
     "status": "completed"
    },
    "tags": []
   },
   "outputs": [],
   "source": [
    "df[\"Date\"]=pd.to_datetime(df[\"Date\"])\n",
    "#Date sütununu object veri tipinde datetime veri tipine dönüştürdüm"
   ]
  },
  {
   "cell_type": "code",
   "execution_count": 17,
   "id": "5b840b1f",
   "metadata": {
    "execution": {
     "iopub.execute_input": "2023-03-23T13:37:42.804187Z",
     "iopub.status.busy": "2023-03-23T13:37:42.803613Z",
     "iopub.status.idle": "2023-03-23T13:37:42.819970Z",
     "shell.execute_reply": "2023-03-23T13:37:42.818019Z"
    },
    "papermill": {
     "duration": 0.039544,
     "end_time": "2023-03-23T13:37:42.823220",
     "exception": false,
     "start_time": "2023-03-23T13:37:42.783676",
     "status": "completed"
    },
    "tags": []
   },
   "outputs": [
    {
     "name": "stdout",
     "output_type": "stream",
     "text": [
      "<class 'pandas.core.frame.DataFrame'>\n",
      "RangeIndex: 1000 entries, 0 to 999\n",
      "Data columns (total 17 columns):\n",
      " #   Column                   Non-Null Count  Dtype         \n",
      "---  ------                   --------------  -----         \n",
      " 0   Invoice ID               1000 non-null   object        \n",
      " 1   Branch                   1000 non-null   object        \n",
      " 2   City                     1000 non-null   object        \n",
      " 3   Customer type            1000 non-null   object        \n",
      " 4   Gender                   1000 non-null   object        \n",
      " 5   Product line             1000 non-null   object        \n",
      " 6   Unit price               1000 non-null   float64       \n",
      " 7   Quantity                 1000 non-null   int64         \n",
      " 8   Tax 5%                   1000 non-null   float64       \n",
      " 9   Total                    1000 non-null   float64       \n",
      " 10  Date                     1000 non-null   datetime64[ns]\n",
      " 11  Time                     1000 non-null   object        \n",
      " 12  Payment                  1000 non-null   object        \n",
      " 13  cogs                     1000 non-null   float64       \n",
      " 14  gross margin percentage  1000 non-null   float64       \n",
      " 15  gross income             1000 non-null   float64       \n",
      " 16  Rating                   1000 non-null   float64       \n",
      "dtypes: datetime64[ns](1), float64(7), int64(1), object(8)\n",
      "memory usage: 132.9+ KB\n"
     ]
    }
   ],
   "source": [
    "df.info()"
   ]
  },
  {
   "cell_type": "code",
   "execution_count": 18,
   "id": "8872dfc4",
   "metadata": {
    "execution": {
     "iopub.execute_input": "2023-03-23T13:37:42.863709Z",
     "iopub.status.busy": "2023-03-23T13:37:42.862544Z",
     "iopub.status.idle": "2023-03-23T13:37:42.875462Z",
     "shell.execute_reply": "2023-03-23T13:37:42.874018Z"
    },
    "papermill": {
     "duration": 0.035699,
     "end_time": "2023-03-23T13:37:42.878113",
     "exception": false,
     "start_time": "2023-03-23T13:37:42.842414",
     "status": "completed"
    },
    "tags": []
   },
   "outputs": [],
   "source": [
    "df[\"day\"]=(df[\"Date\"]).dt.day\n",
    "#day isminde yeni bir sütun oluşturup içine gün verilerini çektim\n",
    "\n",
    "df[\"month\"]=(df[\"Date\"]).dt.month\n",
    "#month isminde yeni bir sütun oluşturup içine ay verilerini çektim\n",
    "\n",
    "df[\"year\"]=(df[\"Date\"]).dt.year\n",
    "#year isminde yeni bir sütun oluşturup içine yıl verilerini çektim\n",
    "\n",
    "df[\"month_name\"]=(df[\"Date\"]).dt.month_name()\n",
    "#month_name isminde yeni bir sütun oluşturup içine ay isimlerini çektim\n",
    "\n",
    "df[\"weekday\"]=(df[\"Date\"]).dt.day_name()\n",
    "#weekday isminde yeni bir sütun oluşturup içine haftanın günlerinin isimlerini çektim"
   ]
  },
  {
   "cell_type": "code",
   "execution_count": 19,
   "id": "d3ea0233",
   "metadata": {
    "execution": {
     "iopub.execute_input": "2023-03-23T13:37:42.918420Z",
     "iopub.status.busy": "2023-03-23T13:37:42.917379Z",
     "iopub.status.idle": "2023-03-23T13:37:42.945588Z",
     "shell.execute_reply": "2023-03-23T13:37:42.944309Z"
    },
    "papermill": {
     "duration": 0.050918,
     "end_time": "2023-03-23T13:37:42.948049",
     "exception": false,
     "start_time": "2023-03-23T13:37:42.897131",
     "status": "completed"
    },
    "tags": []
   },
   "outputs": [
    {
     "data": {
      "text/html": [
       "<div>\n",
       "<style scoped>\n",
       "    .dataframe tbody tr th:only-of-type {\n",
       "        vertical-align: middle;\n",
       "    }\n",
       "\n",
       "    .dataframe tbody tr th {\n",
       "        vertical-align: top;\n",
       "    }\n",
       "\n",
       "    .dataframe thead th {\n",
       "        text-align: right;\n",
       "    }\n",
       "</style>\n",
       "<table border=\"1\" class=\"dataframe\">\n",
       "  <thead>\n",
       "    <tr style=\"text-align: right;\">\n",
       "      <th></th>\n",
       "      <th>Invoice ID</th>\n",
       "      <th>Branch</th>\n",
       "      <th>City</th>\n",
       "      <th>Customer type</th>\n",
       "      <th>Gender</th>\n",
       "      <th>Product line</th>\n",
       "      <th>Unit price</th>\n",
       "      <th>Quantity</th>\n",
       "      <th>Tax 5%</th>\n",
       "      <th>Total</th>\n",
       "      <th>...</th>\n",
       "      <th>Payment</th>\n",
       "      <th>cogs</th>\n",
       "      <th>gross margin percentage</th>\n",
       "      <th>gross income</th>\n",
       "      <th>Rating</th>\n",
       "      <th>day</th>\n",
       "      <th>month</th>\n",
       "      <th>year</th>\n",
       "      <th>month_name</th>\n",
       "      <th>weekday</th>\n",
       "    </tr>\n",
       "  </thead>\n",
       "  <tbody>\n",
       "    <tr>\n",
       "      <th>0</th>\n",
       "      <td>750-67-8428</td>\n",
       "      <td>A</td>\n",
       "      <td>Yangon</td>\n",
       "      <td>Member</td>\n",
       "      <td>Female</td>\n",
       "      <td>Health and beauty</td>\n",
       "      <td>74.69</td>\n",
       "      <td>7</td>\n",
       "      <td>26.1415</td>\n",
       "      <td>548.9715</td>\n",
       "      <td>...</td>\n",
       "      <td>Ewallet</td>\n",
       "      <td>522.83</td>\n",
       "      <td>4.761905</td>\n",
       "      <td>26.1415</td>\n",
       "      <td>9.1</td>\n",
       "      <td>5</td>\n",
       "      <td>1</td>\n",
       "      <td>2019</td>\n",
       "      <td>January</td>\n",
       "      <td>Saturday</td>\n",
       "    </tr>\n",
       "    <tr>\n",
       "      <th>1</th>\n",
       "      <td>226-31-3081</td>\n",
       "      <td>C</td>\n",
       "      <td>Naypyitaw</td>\n",
       "      <td>Normal</td>\n",
       "      <td>Female</td>\n",
       "      <td>Electronic accessories</td>\n",
       "      <td>15.28</td>\n",
       "      <td>5</td>\n",
       "      <td>3.8200</td>\n",
       "      <td>80.2200</td>\n",
       "      <td>...</td>\n",
       "      <td>Cash</td>\n",
       "      <td>76.40</td>\n",
       "      <td>4.761905</td>\n",
       "      <td>3.8200</td>\n",
       "      <td>9.6</td>\n",
       "      <td>8</td>\n",
       "      <td>3</td>\n",
       "      <td>2019</td>\n",
       "      <td>March</td>\n",
       "      <td>Friday</td>\n",
       "    </tr>\n",
       "    <tr>\n",
       "      <th>2</th>\n",
       "      <td>631-41-3108</td>\n",
       "      <td>A</td>\n",
       "      <td>Yangon</td>\n",
       "      <td>Normal</td>\n",
       "      <td>Male</td>\n",
       "      <td>Home and lifestyle</td>\n",
       "      <td>46.33</td>\n",
       "      <td>7</td>\n",
       "      <td>16.2155</td>\n",
       "      <td>340.5255</td>\n",
       "      <td>...</td>\n",
       "      <td>Credit card</td>\n",
       "      <td>324.31</td>\n",
       "      <td>4.761905</td>\n",
       "      <td>16.2155</td>\n",
       "      <td>7.4</td>\n",
       "      <td>3</td>\n",
       "      <td>3</td>\n",
       "      <td>2019</td>\n",
       "      <td>March</td>\n",
       "      <td>Sunday</td>\n",
       "    </tr>\n",
       "    <tr>\n",
       "      <th>3</th>\n",
       "      <td>123-19-1176</td>\n",
       "      <td>A</td>\n",
       "      <td>Yangon</td>\n",
       "      <td>Member</td>\n",
       "      <td>Male</td>\n",
       "      <td>Health and beauty</td>\n",
       "      <td>58.22</td>\n",
       "      <td>8</td>\n",
       "      <td>23.2880</td>\n",
       "      <td>489.0480</td>\n",
       "      <td>...</td>\n",
       "      <td>Ewallet</td>\n",
       "      <td>465.76</td>\n",
       "      <td>4.761905</td>\n",
       "      <td>23.2880</td>\n",
       "      <td>8.4</td>\n",
       "      <td>27</td>\n",
       "      <td>1</td>\n",
       "      <td>2019</td>\n",
       "      <td>January</td>\n",
       "      <td>Sunday</td>\n",
       "    </tr>\n",
       "    <tr>\n",
       "      <th>4</th>\n",
       "      <td>373-73-7910</td>\n",
       "      <td>A</td>\n",
       "      <td>Yangon</td>\n",
       "      <td>Normal</td>\n",
       "      <td>Male</td>\n",
       "      <td>Sports and travel</td>\n",
       "      <td>86.31</td>\n",
       "      <td>7</td>\n",
       "      <td>30.2085</td>\n",
       "      <td>634.3785</td>\n",
       "      <td>...</td>\n",
       "      <td>Ewallet</td>\n",
       "      <td>604.17</td>\n",
       "      <td>4.761905</td>\n",
       "      <td>30.2085</td>\n",
       "      <td>5.3</td>\n",
       "      <td>8</td>\n",
       "      <td>2</td>\n",
       "      <td>2019</td>\n",
       "      <td>February</td>\n",
       "      <td>Friday</td>\n",
       "    </tr>\n",
       "  </tbody>\n",
       "</table>\n",
       "<p>5 rows × 22 columns</p>\n",
       "</div>"
      ],
      "text/plain": [
       "    Invoice ID Branch       City Customer type  Gender  \\\n",
       "0  750-67-8428      A     Yangon        Member  Female   \n",
       "1  226-31-3081      C  Naypyitaw        Normal  Female   \n",
       "2  631-41-3108      A     Yangon        Normal    Male   \n",
       "3  123-19-1176      A     Yangon        Member    Male   \n",
       "4  373-73-7910      A     Yangon        Normal    Male   \n",
       "\n",
       "             Product line  Unit price  Quantity   Tax 5%     Total  ...  \\\n",
       "0       Health and beauty       74.69         7  26.1415  548.9715  ...   \n",
       "1  Electronic accessories       15.28         5   3.8200   80.2200  ...   \n",
       "2      Home and lifestyle       46.33         7  16.2155  340.5255  ...   \n",
       "3       Health and beauty       58.22         8  23.2880  489.0480  ...   \n",
       "4       Sports and travel       86.31         7  30.2085  634.3785  ...   \n",
       "\n",
       "       Payment    cogs gross margin percentage  gross income  Rating  day  \\\n",
       "0      Ewallet  522.83                4.761905       26.1415     9.1    5   \n",
       "1         Cash   76.40                4.761905        3.8200     9.6    8   \n",
       "2  Credit card  324.31                4.761905       16.2155     7.4    3   \n",
       "3      Ewallet  465.76                4.761905       23.2880     8.4   27   \n",
       "4      Ewallet  604.17                4.761905       30.2085     5.3    8   \n",
       "\n",
       "   month  year  month_name   weekday  \n",
       "0      1  2019     January  Saturday  \n",
       "1      3  2019       March    Friday  \n",
       "2      3  2019       March    Sunday  \n",
       "3      1  2019     January    Sunday  \n",
       "4      2  2019    February    Friday  \n",
       "\n",
       "[5 rows x 22 columns]"
      ]
     },
     "execution_count": 19,
     "metadata": {},
     "output_type": "execute_result"
    }
   ],
   "source": [
    "#Hadi yeni veri setimize bakalım\n",
    "df.head()"
   ]
  },
  {
   "cell_type": "code",
   "execution_count": 20,
   "id": "27ff1c89",
   "metadata": {
    "execution": {
     "iopub.execute_input": "2023-03-23T13:37:42.987926Z",
     "iopub.status.busy": "2023-03-23T13:37:42.987518Z",
     "iopub.status.idle": "2023-03-23T13:37:42.993351Z",
     "shell.execute_reply": "2023-03-23T13:37:42.991807Z"
    },
    "papermill": {
     "duration": 0.028693,
     "end_time": "2023-03-23T13:37:42.995818",
     "exception": false,
     "start_time": "2023-03-23T13:37:42.967125",
     "status": "completed"
    },
    "tags": []
   },
   "outputs": [],
   "source": [
    "#Bütün sütunları göremiyorum, bu yüzden alttaki kodu çalıştırcam.\n",
    "pd.set_option(\"display.max_columns\",25)\n",
    "#25 taneye kadar sütun göster demek"
   ]
  },
  {
   "cell_type": "code",
   "execution_count": 21,
   "id": "e0cf17a8",
   "metadata": {
    "execution": {
     "iopub.execute_input": "2023-03-23T13:37:43.036461Z",
     "iopub.status.busy": "2023-03-23T13:37:43.036024Z",
     "iopub.status.idle": "2023-03-23T13:37:43.062343Z",
     "shell.execute_reply": "2023-03-23T13:37:43.061269Z"
    },
    "papermill": {
     "duration": 0.049592,
     "end_time": "2023-03-23T13:37:43.064683",
     "exception": false,
     "start_time": "2023-03-23T13:37:43.015091",
     "status": "completed"
    },
    "tags": []
   },
   "outputs": [
    {
     "data": {
      "text/html": [
       "<div>\n",
       "<style scoped>\n",
       "    .dataframe tbody tr th:only-of-type {\n",
       "        vertical-align: middle;\n",
       "    }\n",
       "\n",
       "    .dataframe tbody tr th {\n",
       "        vertical-align: top;\n",
       "    }\n",
       "\n",
       "    .dataframe thead th {\n",
       "        text-align: right;\n",
       "    }\n",
       "</style>\n",
       "<table border=\"1\" class=\"dataframe\">\n",
       "  <thead>\n",
       "    <tr style=\"text-align: right;\">\n",
       "      <th></th>\n",
       "      <th>Invoice ID</th>\n",
       "      <th>Branch</th>\n",
       "      <th>City</th>\n",
       "      <th>Customer type</th>\n",
       "      <th>Gender</th>\n",
       "      <th>Product line</th>\n",
       "      <th>Unit price</th>\n",
       "      <th>Quantity</th>\n",
       "      <th>Tax 5%</th>\n",
       "      <th>Total</th>\n",
       "      <th>Date</th>\n",
       "      <th>Time</th>\n",
       "      <th>Payment</th>\n",
       "      <th>cogs</th>\n",
       "      <th>gross margin percentage</th>\n",
       "      <th>gross income</th>\n",
       "      <th>Rating</th>\n",
       "      <th>day</th>\n",
       "      <th>month</th>\n",
       "      <th>year</th>\n",
       "      <th>month_name</th>\n",
       "      <th>weekday</th>\n",
       "    </tr>\n",
       "  </thead>\n",
       "  <tbody>\n",
       "    <tr>\n",
       "      <th>0</th>\n",
       "      <td>750-67-8428</td>\n",
       "      <td>A</td>\n",
       "      <td>Yangon</td>\n",
       "      <td>Member</td>\n",
       "      <td>Female</td>\n",
       "      <td>Health and beauty</td>\n",
       "      <td>74.69</td>\n",
       "      <td>7</td>\n",
       "      <td>26.1415</td>\n",
       "      <td>548.9715</td>\n",
       "      <td>2019-01-05</td>\n",
       "      <td>13:08</td>\n",
       "      <td>Ewallet</td>\n",
       "      <td>522.83</td>\n",
       "      <td>4.761905</td>\n",
       "      <td>26.1415</td>\n",
       "      <td>9.1</td>\n",
       "      <td>5</td>\n",
       "      <td>1</td>\n",
       "      <td>2019</td>\n",
       "      <td>January</td>\n",
       "      <td>Saturday</td>\n",
       "    </tr>\n",
       "    <tr>\n",
       "      <th>1</th>\n",
       "      <td>226-31-3081</td>\n",
       "      <td>C</td>\n",
       "      <td>Naypyitaw</td>\n",
       "      <td>Normal</td>\n",
       "      <td>Female</td>\n",
       "      <td>Electronic accessories</td>\n",
       "      <td>15.28</td>\n",
       "      <td>5</td>\n",
       "      <td>3.8200</td>\n",
       "      <td>80.2200</td>\n",
       "      <td>2019-03-08</td>\n",
       "      <td>10:29</td>\n",
       "      <td>Cash</td>\n",
       "      <td>76.40</td>\n",
       "      <td>4.761905</td>\n",
       "      <td>3.8200</td>\n",
       "      <td>9.6</td>\n",
       "      <td>8</td>\n",
       "      <td>3</td>\n",
       "      <td>2019</td>\n",
       "      <td>March</td>\n",
       "      <td>Friday</td>\n",
       "    </tr>\n",
       "    <tr>\n",
       "      <th>2</th>\n",
       "      <td>631-41-3108</td>\n",
       "      <td>A</td>\n",
       "      <td>Yangon</td>\n",
       "      <td>Normal</td>\n",
       "      <td>Male</td>\n",
       "      <td>Home and lifestyle</td>\n",
       "      <td>46.33</td>\n",
       "      <td>7</td>\n",
       "      <td>16.2155</td>\n",
       "      <td>340.5255</td>\n",
       "      <td>2019-03-03</td>\n",
       "      <td>13:23</td>\n",
       "      <td>Credit card</td>\n",
       "      <td>324.31</td>\n",
       "      <td>4.761905</td>\n",
       "      <td>16.2155</td>\n",
       "      <td>7.4</td>\n",
       "      <td>3</td>\n",
       "      <td>3</td>\n",
       "      <td>2019</td>\n",
       "      <td>March</td>\n",
       "      <td>Sunday</td>\n",
       "    </tr>\n",
       "    <tr>\n",
       "      <th>3</th>\n",
       "      <td>123-19-1176</td>\n",
       "      <td>A</td>\n",
       "      <td>Yangon</td>\n",
       "      <td>Member</td>\n",
       "      <td>Male</td>\n",
       "      <td>Health and beauty</td>\n",
       "      <td>58.22</td>\n",
       "      <td>8</td>\n",
       "      <td>23.2880</td>\n",
       "      <td>489.0480</td>\n",
       "      <td>2019-01-27</td>\n",
       "      <td>20:33</td>\n",
       "      <td>Ewallet</td>\n",
       "      <td>465.76</td>\n",
       "      <td>4.761905</td>\n",
       "      <td>23.2880</td>\n",
       "      <td>8.4</td>\n",
       "      <td>27</td>\n",
       "      <td>1</td>\n",
       "      <td>2019</td>\n",
       "      <td>January</td>\n",
       "      <td>Sunday</td>\n",
       "    </tr>\n",
       "    <tr>\n",
       "      <th>4</th>\n",
       "      <td>373-73-7910</td>\n",
       "      <td>A</td>\n",
       "      <td>Yangon</td>\n",
       "      <td>Normal</td>\n",
       "      <td>Male</td>\n",
       "      <td>Sports and travel</td>\n",
       "      <td>86.31</td>\n",
       "      <td>7</td>\n",
       "      <td>30.2085</td>\n",
       "      <td>634.3785</td>\n",
       "      <td>2019-02-08</td>\n",
       "      <td>10:37</td>\n",
       "      <td>Ewallet</td>\n",
       "      <td>604.17</td>\n",
       "      <td>4.761905</td>\n",
       "      <td>30.2085</td>\n",
       "      <td>5.3</td>\n",
       "      <td>8</td>\n",
       "      <td>2</td>\n",
       "      <td>2019</td>\n",
       "      <td>February</td>\n",
       "      <td>Friday</td>\n",
       "    </tr>\n",
       "  </tbody>\n",
       "</table>\n",
       "</div>"
      ],
      "text/plain": [
       "    Invoice ID Branch       City Customer type  Gender  \\\n",
       "0  750-67-8428      A     Yangon        Member  Female   \n",
       "1  226-31-3081      C  Naypyitaw        Normal  Female   \n",
       "2  631-41-3108      A     Yangon        Normal    Male   \n",
       "3  123-19-1176      A     Yangon        Member    Male   \n",
       "4  373-73-7910      A     Yangon        Normal    Male   \n",
       "\n",
       "             Product line  Unit price  Quantity   Tax 5%     Total       Date  \\\n",
       "0       Health and beauty       74.69         7  26.1415  548.9715 2019-01-05   \n",
       "1  Electronic accessories       15.28         5   3.8200   80.2200 2019-03-08   \n",
       "2      Home and lifestyle       46.33         7  16.2155  340.5255 2019-03-03   \n",
       "3       Health and beauty       58.22         8  23.2880  489.0480 2019-01-27   \n",
       "4       Sports and travel       86.31         7  30.2085  634.3785 2019-02-08   \n",
       "\n",
       "    Time      Payment    cogs  gross margin percentage  gross income  Rating  \\\n",
       "0  13:08      Ewallet  522.83                 4.761905       26.1415     9.1   \n",
       "1  10:29         Cash   76.40                 4.761905        3.8200     9.6   \n",
       "2  13:23  Credit card  324.31                 4.761905       16.2155     7.4   \n",
       "3  20:33      Ewallet  465.76                 4.761905       23.2880     8.4   \n",
       "4  10:37      Ewallet  604.17                 4.761905       30.2085     5.3   \n",
       "\n",
       "   day  month  year month_name   weekday  \n",
       "0    5      1  2019    January  Saturday  \n",
       "1    8      3  2019      March    Friday  \n",
       "2    3      3  2019      March    Sunday  \n",
       "3   27      1  2019    January    Sunday  \n",
       "4    8      2  2019   February    Friday  "
      ]
     },
     "execution_count": 21,
     "metadata": {},
     "output_type": "execute_result"
    }
   ],
   "source": [
    "df.head()"
   ]
  },
  {
   "cell_type": "code",
   "execution_count": 22,
   "id": "a2eb11ac",
   "metadata": {
    "execution": {
     "iopub.execute_input": "2023-03-23T13:37:43.105648Z",
     "iopub.status.busy": "2023-03-23T13:37:43.105224Z",
     "iopub.status.idle": "2023-03-23T13:37:43.122845Z",
     "shell.execute_reply": "2023-03-23T13:37:43.121355Z"
    },
    "papermill": {
     "duration": 0.041175,
     "end_time": "2023-03-23T13:37:43.125844",
     "exception": false,
     "start_time": "2023-03-23T13:37:43.084669",
     "status": "completed"
    },
    "tags": []
   },
   "outputs": [
    {
     "name": "stdout",
     "output_type": "stream",
     "text": [
      "<class 'pandas.core.frame.DataFrame'>\n",
      "RangeIndex: 1000 entries, 0 to 999\n",
      "Data columns (total 22 columns):\n",
      " #   Column                   Non-Null Count  Dtype         \n",
      "---  ------                   --------------  -----         \n",
      " 0   Invoice ID               1000 non-null   object        \n",
      " 1   Branch                   1000 non-null   object        \n",
      " 2   City                     1000 non-null   object        \n",
      " 3   Customer type            1000 non-null   object        \n",
      " 4   Gender                   1000 non-null   object        \n",
      " 5   Product line             1000 non-null   object        \n",
      " 6   Unit price               1000 non-null   float64       \n",
      " 7   Quantity                 1000 non-null   int64         \n",
      " 8   Tax 5%                   1000 non-null   float64       \n",
      " 9   Total                    1000 non-null   float64       \n",
      " 10  Date                     1000 non-null   datetime64[ns]\n",
      " 11  Time                     1000 non-null   object        \n",
      " 12  Payment                  1000 non-null   object        \n",
      " 13  cogs                     1000 non-null   float64       \n",
      " 14  gross margin percentage  1000 non-null   float64       \n",
      " 15  gross income             1000 non-null   float64       \n",
      " 16  Rating                   1000 non-null   float64       \n",
      " 17  day                      1000 non-null   int64         \n",
      " 18  month                    1000 non-null   int64         \n",
      " 19  year                     1000 non-null   int64         \n",
      " 20  month_name               1000 non-null   object        \n",
      " 21  weekday                  1000 non-null   object        \n",
      "dtypes: datetime64[ns](1), float64(7), int64(4), object(10)\n",
      "memory usage: 172.0+ KB\n"
     ]
    }
   ],
   "source": [
    "df.info()"
   ]
  },
  {
   "cell_type": "code",
   "execution_count": 23,
   "id": "48291d8e",
   "metadata": {
    "execution": {
     "iopub.execute_input": "2023-03-23T13:37:43.167387Z",
     "iopub.status.busy": "2023-03-23T13:37:43.166936Z",
     "iopub.status.idle": "2023-03-23T13:37:43.218966Z",
     "shell.execute_reply": "2023-03-23T13:37:43.217715Z"
    },
    "papermill": {
     "duration": 0.075795,
     "end_time": "2023-03-23T13:37:43.221780",
     "exception": false,
     "start_time": "2023-03-23T13:37:43.145985",
     "status": "completed"
    },
    "tags": []
   },
   "outputs": [],
   "source": [
    "df[\"Time\"]=pd.to_datetime(df[\"Time\"])\n",
    "#Time sütununu object veri tipinde datetime veri tipine dönüştürdüm"
   ]
  },
  {
   "cell_type": "code",
   "execution_count": 24,
   "id": "92c1d305",
   "metadata": {
    "execution": {
     "iopub.execute_input": "2023-03-23T13:37:43.263086Z",
     "iopub.status.busy": "2023-03-23T13:37:43.262642Z",
     "iopub.status.idle": "2023-03-23T13:37:43.279848Z",
     "shell.execute_reply": "2023-03-23T13:37:43.278322Z"
    },
    "papermill": {
     "duration": 0.041936,
     "end_time": "2023-03-23T13:37:43.283575",
     "exception": false,
     "start_time": "2023-03-23T13:37:43.241639",
     "status": "completed"
    },
    "tags": []
   },
   "outputs": [
    {
     "name": "stdout",
     "output_type": "stream",
     "text": [
      "<class 'pandas.core.frame.DataFrame'>\n",
      "RangeIndex: 1000 entries, 0 to 999\n",
      "Data columns (total 22 columns):\n",
      " #   Column                   Non-Null Count  Dtype         \n",
      "---  ------                   --------------  -----         \n",
      " 0   Invoice ID               1000 non-null   object        \n",
      " 1   Branch                   1000 non-null   object        \n",
      " 2   City                     1000 non-null   object        \n",
      " 3   Customer type            1000 non-null   object        \n",
      " 4   Gender                   1000 non-null   object        \n",
      " 5   Product line             1000 non-null   object        \n",
      " 6   Unit price               1000 non-null   float64       \n",
      " 7   Quantity                 1000 non-null   int64         \n",
      " 8   Tax 5%                   1000 non-null   float64       \n",
      " 9   Total                    1000 non-null   float64       \n",
      " 10  Date                     1000 non-null   datetime64[ns]\n",
      " 11  Time                     1000 non-null   datetime64[ns]\n",
      " 12  Payment                  1000 non-null   object        \n",
      " 13  cogs                     1000 non-null   float64       \n",
      " 14  gross margin percentage  1000 non-null   float64       \n",
      " 15  gross income             1000 non-null   float64       \n",
      " 16  Rating                   1000 non-null   float64       \n",
      " 17  day                      1000 non-null   int64         \n",
      " 18  month                    1000 non-null   int64         \n",
      " 19  year                     1000 non-null   int64         \n",
      " 20  month_name               1000 non-null   object        \n",
      " 21  weekday                  1000 non-null   object        \n",
      "dtypes: datetime64[ns](2), float64(7), int64(4), object(9)\n",
      "memory usage: 172.0+ KB\n"
     ]
    }
   ],
   "source": [
    "df.info()"
   ]
  },
  {
   "cell_type": "code",
   "execution_count": 25,
   "id": "012a5b48",
   "metadata": {
    "execution": {
     "iopub.execute_input": "2023-03-23T13:37:43.326679Z",
     "iopub.status.busy": "2023-03-23T13:37:43.325604Z",
     "iopub.status.idle": "2023-03-23T13:37:43.332496Z",
     "shell.execute_reply": "2023-03-23T13:37:43.331584Z"
    },
    "papermill": {
     "duration": 0.030724,
     "end_time": "2023-03-23T13:37:43.334798",
     "exception": false,
     "start_time": "2023-03-23T13:37:43.304074",
     "status": "completed"
    },
    "tags": []
   },
   "outputs": [],
   "source": [
    "df[\"Hour\"]=(df[\"Time\"]).dt.hour\n",
    "#Hour isminde yeni bir sütun oluşturup içine saat verilerini çektim"
   ]
  },
  {
   "cell_type": "code",
   "execution_count": 26,
   "id": "0428d0e6",
   "metadata": {
    "execution": {
     "iopub.execute_input": "2023-03-23T13:37:43.376378Z",
     "iopub.status.busy": "2023-03-23T13:37:43.375451Z",
     "iopub.status.idle": "2023-03-23T13:37:43.402021Z",
     "shell.execute_reply": "2023-03-23T13:37:43.400769Z"
    },
    "papermill": {
     "duration": 0.049889,
     "end_time": "2023-03-23T13:37:43.404441",
     "exception": false,
     "start_time": "2023-03-23T13:37:43.354552",
     "status": "completed"
    },
    "tags": []
   },
   "outputs": [
    {
     "data": {
      "text/html": [
       "<div>\n",
       "<style scoped>\n",
       "    .dataframe tbody tr th:only-of-type {\n",
       "        vertical-align: middle;\n",
       "    }\n",
       "\n",
       "    .dataframe tbody tr th {\n",
       "        vertical-align: top;\n",
       "    }\n",
       "\n",
       "    .dataframe thead th {\n",
       "        text-align: right;\n",
       "    }\n",
       "</style>\n",
       "<table border=\"1\" class=\"dataframe\">\n",
       "  <thead>\n",
       "    <tr style=\"text-align: right;\">\n",
       "      <th></th>\n",
       "      <th>Invoice ID</th>\n",
       "      <th>Branch</th>\n",
       "      <th>City</th>\n",
       "      <th>Customer type</th>\n",
       "      <th>Gender</th>\n",
       "      <th>Product line</th>\n",
       "      <th>Unit price</th>\n",
       "      <th>Quantity</th>\n",
       "      <th>Tax 5%</th>\n",
       "      <th>Total</th>\n",
       "      <th>Date</th>\n",
       "      <th>Time</th>\n",
       "      <th>Payment</th>\n",
       "      <th>cogs</th>\n",
       "      <th>gross margin percentage</th>\n",
       "      <th>gross income</th>\n",
       "      <th>Rating</th>\n",
       "      <th>day</th>\n",
       "      <th>month</th>\n",
       "      <th>year</th>\n",
       "      <th>month_name</th>\n",
       "      <th>weekday</th>\n",
       "      <th>Hour</th>\n",
       "    </tr>\n",
       "  </thead>\n",
       "  <tbody>\n",
       "    <tr>\n",
       "      <th>0</th>\n",
       "      <td>750-67-8428</td>\n",
       "      <td>A</td>\n",
       "      <td>Yangon</td>\n",
       "      <td>Member</td>\n",
       "      <td>Female</td>\n",
       "      <td>Health and beauty</td>\n",
       "      <td>74.69</td>\n",
       "      <td>7</td>\n",
       "      <td>26.1415</td>\n",
       "      <td>548.9715</td>\n",
       "      <td>2019-01-05</td>\n",
       "      <td>2023-03-23 13:08:00</td>\n",
       "      <td>Ewallet</td>\n",
       "      <td>522.83</td>\n",
       "      <td>4.761905</td>\n",
       "      <td>26.1415</td>\n",
       "      <td>9.1</td>\n",
       "      <td>5</td>\n",
       "      <td>1</td>\n",
       "      <td>2019</td>\n",
       "      <td>January</td>\n",
       "      <td>Saturday</td>\n",
       "      <td>13</td>\n",
       "    </tr>\n",
       "    <tr>\n",
       "      <th>1</th>\n",
       "      <td>226-31-3081</td>\n",
       "      <td>C</td>\n",
       "      <td>Naypyitaw</td>\n",
       "      <td>Normal</td>\n",
       "      <td>Female</td>\n",
       "      <td>Electronic accessories</td>\n",
       "      <td>15.28</td>\n",
       "      <td>5</td>\n",
       "      <td>3.8200</td>\n",
       "      <td>80.2200</td>\n",
       "      <td>2019-03-08</td>\n",
       "      <td>2023-03-23 10:29:00</td>\n",
       "      <td>Cash</td>\n",
       "      <td>76.40</td>\n",
       "      <td>4.761905</td>\n",
       "      <td>3.8200</td>\n",
       "      <td>9.6</td>\n",
       "      <td>8</td>\n",
       "      <td>3</td>\n",
       "      <td>2019</td>\n",
       "      <td>March</td>\n",
       "      <td>Friday</td>\n",
       "      <td>10</td>\n",
       "    </tr>\n",
       "    <tr>\n",
       "      <th>2</th>\n",
       "      <td>631-41-3108</td>\n",
       "      <td>A</td>\n",
       "      <td>Yangon</td>\n",
       "      <td>Normal</td>\n",
       "      <td>Male</td>\n",
       "      <td>Home and lifestyle</td>\n",
       "      <td>46.33</td>\n",
       "      <td>7</td>\n",
       "      <td>16.2155</td>\n",
       "      <td>340.5255</td>\n",
       "      <td>2019-03-03</td>\n",
       "      <td>2023-03-23 13:23:00</td>\n",
       "      <td>Credit card</td>\n",
       "      <td>324.31</td>\n",
       "      <td>4.761905</td>\n",
       "      <td>16.2155</td>\n",
       "      <td>7.4</td>\n",
       "      <td>3</td>\n",
       "      <td>3</td>\n",
       "      <td>2019</td>\n",
       "      <td>March</td>\n",
       "      <td>Sunday</td>\n",
       "      <td>13</td>\n",
       "    </tr>\n",
       "    <tr>\n",
       "      <th>3</th>\n",
       "      <td>123-19-1176</td>\n",
       "      <td>A</td>\n",
       "      <td>Yangon</td>\n",
       "      <td>Member</td>\n",
       "      <td>Male</td>\n",
       "      <td>Health and beauty</td>\n",
       "      <td>58.22</td>\n",
       "      <td>8</td>\n",
       "      <td>23.2880</td>\n",
       "      <td>489.0480</td>\n",
       "      <td>2019-01-27</td>\n",
       "      <td>2023-03-23 20:33:00</td>\n",
       "      <td>Ewallet</td>\n",
       "      <td>465.76</td>\n",
       "      <td>4.761905</td>\n",
       "      <td>23.2880</td>\n",
       "      <td>8.4</td>\n",
       "      <td>27</td>\n",
       "      <td>1</td>\n",
       "      <td>2019</td>\n",
       "      <td>January</td>\n",
       "      <td>Sunday</td>\n",
       "      <td>20</td>\n",
       "    </tr>\n",
       "    <tr>\n",
       "      <th>4</th>\n",
       "      <td>373-73-7910</td>\n",
       "      <td>A</td>\n",
       "      <td>Yangon</td>\n",
       "      <td>Normal</td>\n",
       "      <td>Male</td>\n",
       "      <td>Sports and travel</td>\n",
       "      <td>86.31</td>\n",
       "      <td>7</td>\n",
       "      <td>30.2085</td>\n",
       "      <td>634.3785</td>\n",
       "      <td>2019-02-08</td>\n",
       "      <td>2023-03-23 10:37:00</td>\n",
       "      <td>Ewallet</td>\n",
       "      <td>604.17</td>\n",
       "      <td>4.761905</td>\n",
       "      <td>30.2085</td>\n",
       "      <td>5.3</td>\n",
       "      <td>8</td>\n",
       "      <td>2</td>\n",
       "      <td>2019</td>\n",
       "      <td>February</td>\n",
       "      <td>Friday</td>\n",
       "      <td>10</td>\n",
       "    </tr>\n",
       "  </tbody>\n",
       "</table>\n",
       "</div>"
      ],
      "text/plain": [
       "    Invoice ID Branch       City Customer type  Gender  \\\n",
       "0  750-67-8428      A     Yangon        Member  Female   \n",
       "1  226-31-3081      C  Naypyitaw        Normal  Female   \n",
       "2  631-41-3108      A     Yangon        Normal    Male   \n",
       "3  123-19-1176      A     Yangon        Member    Male   \n",
       "4  373-73-7910      A     Yangon        Normal    Male   \n",
       "\n",
       "             Product line  Unit price  Quantity   Tax 5%     Total       Date  \\\n",
       "0       Health and beauty       74.69         7  26.1415  548.9715 2019-01-05   \n",
       "1  Electronic accessories       15.28         5   3.8200   80.2200 2019-03-08   \n",
       "2      Home and lifestyle       46.33         7  16.2155  340.5255 2019-03-03   \n",
       "3       Health and beauty       58.22         8  23.2880  489.0480 2019-01-27   \n",
       "4       Sports and travel       86.31         7  30.2085  634.3785 2019-02-08   \n",
       "\n",
       "                 Time      Payment    cogs  gross margin percentage  \\\n",
       "0 2023-03-23 13:08:00      Ewallet  522.83                 4.761905   \n",
       "1 2023-03-23 10:29:00         Cash   76.40                 4.761905   \n",
       "2 2023-03-23 13:23:00  Credit card  324.31                 4.761905   \n",
       "3 2023-03-23 20:33:00      Ewallet  465.76                 4.761905   \n",
       "4 2023-03-23 10:37:00      Ewallet  604.17                 4.761905   \n",
       "\n",
       "   gross income  Rating  day  month  year month_name   weekday  Hour  \n",
       "0       26.1415     9.1    5      1  2019    January  Saturday    13  \n",
       "1        3.8200     9.6    8      3  2019      March    Friday    10  \n",
       "2       16.2155     7.4    3      3  2019      March    Sunday    13  \n",
       "3       23.2880     8.4   27      1  2019    January    Sunday    20  \n",
       "4       30.2085     5.3    8      2  2019   February    Friday    10  "
      ]
     },
     "execution_count": 26,
     "metadata": {},
     "output_type": "execute_result"
    }
   ],
   "source": [
    "df.head()"
   ]
  },
  {
   "cell_type": "markdown",
   "id": "f4650229",
   "metadata": {
    "papermill": {
     "duration": 0.019497,
     "end_time": "2023-03-23T13:37:43.443831",
     "exception": false,
     "start_time": "2023-03-23T13:37:43.424334",
     "status": "completed"
    },
    "tags": []
   },
   "source": [
    "# Veri Görselleştirme"
   ]
  },
  {
   "cell_type": "code",
   "execution_count": 27,
   "id": "bb5ff6fd",
   "metadata": {
    "execution": {
     "iopub.execute_input": "2023-03-23T13:37:43.486471Z",
     "iopub.status.busy": "2023-03-23T13:37:43.485090Z",
     "iopub.status.idle": "2023-03-23T13:37:43.742040Z",
     "shell.execute_reply": "2023-03-23T13:37:43.740621Z"
    },
    "papermill": {
     "duration": 0.281027,
     "end_time": "2023-03-23T13:37:43.744642",
     "exception": false,
     "start_time": "2023-03-23T13:37:43.463615",
     "status": "completed"
    },
    "tags": []
   },
   "outputs": [
    {
     "data": {
      "image/png": "[encoded data removed]",
      "text/plain": [
       "<Figure size 576x432 with 1 Axes>"
      ]
     },
     "metadata": {
      "needs_background": "light"
     },
     "output_type": "display_data"
    }
   ],
   "source": [
    "plt.figure(figsize=(8,6))\n",
    "#bir matplotlib grafiği oluşturmak için bir figür nesnesi oluşturur ve boyutunu (8,6) olarak ayarlar.\n",
    "\n",
    "plt.title(\"Montly transaction\")\n",
    "#Bu kod, grafiğin başlığını \"Montly transaction\" olarak ayarlar\n",
    "\n",
    "sns.countplot(x=df.month_name)\n",
    "#\"month_name\" sütununa göre bir çubuk grafiği oluşturur.\n",
    "\n",
    "plt.xticks(rotation=45); \n",
    "#x ekseni etiketlerinin yönünü 45 dereceye ayarlar, böylece etiketler daha okunaklı hale gelir."
   ]
  },
  {
   "cell_type": "code",
   "execution_count": 28,
   "id": "b3fad411",
   "metadata": {
    "execution": {
     "iopub.execute_input": "2023-03-23T13:37:43.787074Z",
     "iopub.status.busy": "2023-03-23T13:37:43.786661Z",
     "iopub.status.idle": "2023-03-23T13:37:43.979429Z",
     "shell.execute_reply": "2023-03-23T13:37:43.977893Z"
    },
    "papermill": {
     "duration": 0.218908,
     "end_time": "2023-03-23T13:37:43.983811",
     "exception": false,
     "start_time": "2023-03-23T13:37:43.764903",
     "status": "completed"
    },
    "tags": []
   },
   "outputs": [
    {
     "data": {
      "image/png": "[encoded data removed]",
      "text/plain": [
       "<Figure size 576x576 with 1 Axes>"
      ]
     },
     "metadata": {},
     "output_type": "display_data"
    }
   ],
   "source": [
    "plt.figure(figsize=(8,8))\n",
    "\n",
    "explode=(0.25,0.10,0.05)\n",
    "#Pasta grafiğindeki dilimlerin çıkartılacağı oranları belirler. \n",
    "#İlk dilim %25 oranında çıkarılırken, ikinci dilim %10 ve üçüncü dilim %5 oranında çıkarılır\n",
    "\n",
    "df[\"month_name\"].value_counts().plot.pie(autopct=\"%1.1f%%\",startangle=60,explode=explode)\n",
    "#pie() fonksiyonunu kullanarak pasta grafiği oluşturur.\n",
    "#autopct=\"%1.1f%%\" yüzde değerlerini göstermek için kullanılır\n",
    "#startangle=60 başlangıç açısını 60 derece olarak ayarlar\n",
    "#explode=explode parametresi, pasta dilimlerinin çıkarılacağı oranları belirler.\n",
    "\n",
    "plt.title(\"Transaction per month\");"
   ]
  },
  {
   "cell_type": "markdown",
   "id": "6dbe2cf6",
   "metadata": {
    "papermill": {
     "duration": 0.020382,
     "end_time": "2023-03-23T13:37:44.043093",
     "exception": false,
     "start_time": "2023-03-23T13:37:44.022711",
     "status": "completed"
    },
    "tags": []
   },
   "source": [
    "> **Gördüğümüz gibi, bu süpermarketin Ocak ayında diğer iki aya göre daha fazla işlemi var.**"
   ]
  },
  {
   "cell_type": "code",
   "execution_count": 29,
   "id": "6285d97b",
   "metadata": {
    "execution": {
     "iopub.execute_input": "2023-03-23T13:37:44.088141Z",
     "iopub.status.busy": "2023-03-23T13:37:44.087518Z",
     "iopub.status.idle": "2023-03-23T13:37:44.303521Z",
     "shell.execute_reply": "2023-03-23T13:37:44.302534Z"
    },
    "papermill": {
     "duration": 0.241945,
     "end_time": "2023-03-23T13:37:44.306061",
     "exception": false,
     "start_time": "2023-03-23T13:37:44.064116",
     "status": "completed"
    },
    "tags": []
   },
   "outputs": [
    {
     "data": {
      "image/png": "[encoded data removed]",
      "text/plain": [
       "<Figure size 576x1152 with 1 Axes>"
      ]
     },
     "metadata": {
      "needs_background": "light"
     },
     "output_type": "display_data"
    }
   ],
   "source": [
    "plt.figure(figsize=(8,16))\n",
    "\n",
    "plt.title(\"Montly transaction\")\n",
    "\n",
    "sns.countplot(x=df[\"Gender\"]);"
   ]
  },
  {
   "cell_type": "markdown",
   "id": "42669371",
   "metadata": {
    "papermill": {
     "duration": 0.021251,
     "end_time": "2023-03-23T13:37:44.349304",
     "exception": false,
     "start_time": "2023-03-23T13:37:44.328053",
     "status": "completed"
    },
    "tags": []
   },
   "source": [
    "> **Kadınlar ve erkekler arasında çok küçük bir fark var**\n",
    "\n",
    "**Hadi arada ne kadar fark olduğuna bakalım!**"
   ]
  },
  {
   "cell_type": "code",
   "execution_count": 30,
   "id": "5f711a1a",
   "metadata": {
    "execution": {
     "iopub.execute_input": "2023-03-23T13:37:44.393835Z",
     "iopub.status.busy": "2023-03-23T13:37:44.393082Z",
     "iopub.status.idle": "2023-03-23T13:37:44.400721Z",
     "shell.execute_reply": "2023-03-23T13:37:44.399834Z"
    },
    "papermill": {
     "duration": 0.032429,
     "end_time": "2023-03-23T13:37:44.402905",
     "exception": false,
     "start_time": "2023-03-23T13:37:44.370476",
     "status": "completed"
    },
    "tags": []
   },
   "outputs": [
    {
     "data": {
      "text/plain": [
       "Female    501\n",
       "Male      499\n",
       "Name: Gender, dtype: int64"
      ]
     },
     "execution_count": 30,
     "metadata": {},
     "output_type": "execute_result"
    }
   ],
   "source": [
    "df.Gender.value_counts()"
   ]
  },
  {
   "cell_type": "markdown",
   "id": "e12965ea",
   "metadata": {
    "papermill": {
     "duration": 0.020816,
     "end_time": "2023-03-23T13:37:44.445210",
     "exception": false,
     "start_time": "2023-03-23T13:37:44.424394",
     "status": "completed"
    },
    "tags": []
   },
   "source": [
    "***Sadece 2 kişilik fark var***"
   ]
  },
  {
   "cell_type": "code",
   "execution_count": 31,
   "id": "9642ea2e",
   "metadata": {
    "execution": {
     "iopub.execute_input": "2023-03-23T13:37:44.491596Z",
     "iopub.status.busy": "2023-03-23T13:37:44.490904Z",
     "iopub.status.idle": "2023-03-23T13:37:44.724508Z",
     "shell.execute_reply": "2023-03-23T13:37:44.723624Z"
    },
    "papermill": {
     "duration": 0.258741,
     "end_time": "2023-03-23T13:37:44.726923",
     "exception": false,
     "start_time": "2023-03-23T13:37:44.468182",
     "status": "completed"
    },
    "tags": []
   },
   "outputs": [
    {
     "data": {
      "image/png": "[encoded data removed]",
      "text/plain": [
       "<Figure size 432x288 with 1 Axes>"
      ]
     },
     "metadata": {
      "needs_background": "light"
     },
     "output_type": "display_data"
    }
   ],
   "source": [
    "sns.countplot(x=df.weekday)\n",
    "plt.xticks(rotation=45);"
   ]
  },
  {
   "cell_type": "markdown",
   "id": "db1facc2",
   "metadata": {
    "papermill": {
     "duration": 0.022015,
     "end_time": "2023-03-23T13:37:44.771217",
     "exception": false,
     "start_time": "2023-03-23T13:37:44.749202",
     "status": "completed"
    },
    "tags": []
   },
   "source": [
    "> En kalabalık gün Cumartesi. Muhtemelen Cumartesi tatil olduğundandır.\n",
    "\n",
    "\n",
    "> Ancak Pazartesi en sakin gündür. İlginç olan Salı, en kalabalık ikinci gün. Salı, Pazar'dan bile daha kalabalık. Neden?\n",
    "\n",
    "\n",
    "> Muhtemelen cumartesi alınan yiyecekler bitiyordur😅"
   ]
  },
  {
   "cell_type": "code",
   "execution_count": 32,
   "id": "e0dcbf55",
   "metadata": {
    "execution": {
     "iopub.execute_input": "2023-03-23T13:37:44.818029Z",
     "iopub.status.busy": "2023-03-23T13:37:44.817567Z",
     "iopub.status.idle": "2023-03-23T13:37:45.014813Z",
     "shell.execute_reply": "2023-03-23T13:37:45.013546Z"
    },
    "papermill": {
     "duration": 0.22388,
     "end_time": "2023-03-23T13:37:45.017422",
     "exception": false,
     "start_time": "2023-03-23T13:37:44.793542",
     "status": "completed"
    },
    "tags": []
   },
   "outputs": [
    {
     "data": {
      "image/png": "[encoded data removed]",
      "text/plain": [
       "<Figure size 864x432 with 1 Axes>"
      ]
     },
     "metadata": {
      "needs_background": "light"
     },
     "output_type": "display_data"
    }
   ],
   "source": [
    "plt.figure(figsize=(12,6))\n",
    "plt.title(\"total monthly Transaction\")\n",
    "sns.countplot(x=df[\"Product line\"])\n",
    "plt.xticks(rotation=90); "
   ]
  },
  {
   "cell_type": "markdown",
   "id": "7b334807",
   "metadata": {
    "papermill": {
     "duration": 0.021798,
     "end_time": "2023-03-23T13:37:45.061943",
     "exception": false,
     "start_time": "2023-03-23T13:37:45.040145",
     "status": "completed"
    },
    "tags": []
   },
   "source": [
    "## Pasta grafiğinde görelim!"
   ]
  },
  {
   "cell_type": "code",
   "execution_count": 33,
   "id": "f6be3fd5",
   "metadata": {
    "execution": {
     "iopub.execute_input": "2023-03-23T13:37:45.109976Z",
     "iopub.status.busy": "2023-03-23T13:37:45.108712Z",
     "iopub.status.idle": "2023-03-23T13:37:45.266911Z",
     "shell.execute_reply": "2023-03-23T13:37:45.265215Z"
    },
    "papermill": {
     "duration": 0.185887,
     "end_time": "2023-03-23T13:37:45.269841",
     "exception": false,
     "start_time": "2023-03-23T13:37:45.083954",
     "status": "completed"
    },
    "tags": []
   },
   "outputs": [
    {
     "data": {
      "image/png": "[encoded data removed]",
      "text/plain": [
       "<Figure size 576x576 with 1 Axes>"
      ]
     },
     "metadata": {},
     "output_type": "display_data"
    }
   ],
   "source": [
    "plt.figure(figsize=(8,8))\n",
    "\n",
    "explode=(0.15,0.05,0.05,0.05,0.05,0.05)\n",
    "\n",
    "df[\"Product line\"].value_counts().plot.pie(autopct=\"%1.2f%%\",startangle=80,explode=explode)\n",
    "\n",
    "plt.title(\"Transaction per month\");\n"
   ]
  },
  {
   "cell_type": "markdown",
   "id": "d934fb21",
   "metadata": {
    "papermill": {
     "duration": 0.023168,
     "end_time": "2023-03-23T13:37:45.317065",
     "exception": false,
     "start_time": "2023-03-23T13:37:45.293897",
     "status": "completed"
    },
    "tags": []
   },
   "source": [
    "> Woow Moda aksesuarları (Fashion accessories) diğerlerinden daha fazla, hatta yiyeceklerden bile daha fazla :D\n",
    "\n",
    "\n",
    "> Belki de grafiğe cinsiyetlere göre bakmalıyız."
   ]
  },
  {
   "cell_type": "code",
   "execution_count": 34,
   "id": "9952b456",
   "metadata": {
    "execution": {
     "iopub.execute_input": "2023-03-23T13:37:45.365524Z",
     "iopub.status.busy": "2023-03-23T13:37:45.364607Z",
     "iopub.status.idle": "2023-03-23T13:37:45.526806Z",
     "shell.execute_reply": "2023-03-23T13:37:45.525824Z"
    },
    "papermill": {
     "duration": 0.18906,
     "end_time": "2023-03-23T13:37:45.529299",
     "exception": false,
     "start_time": "2023-03-23T13:37:45.340239",
     "status": "completed"
    },
    "tags": []
   },
   "outputs": [
    {
     "data": {
      "image/png": "[encoded data removed]",
      "text/plain": [
       "<Figure size 576x576 with 1 Axes>"
      ]
     },
     "metadata": {},
     "output_type": "display_data"
    }
   ],
   "source": [
    "plt.figure(figsize=(8,8))\n",
    "\n",
    "explode=(0.15,0.05,0.05,0.05,0.05,0.05)\n",
    "\n",
    "df[\"Product line\"][df[\"Gender\"]==\"Male\"].value_counts().plot.pie(autopct=\"%1.2f%%\",startangle=80,explode=explode,)\n",
    "\n",
    "plt.title(\"Transaction per month of Males\");\n"
   ]
  },
  {
   "cell_type": "markdown",
   "id": "a113f42a",
   "metadata": {
    "papermill": {
     "duration": 0.023711,
     "end_time": "2023-03-23T13:37:45.577082",
     "exception": false,
     "start_time": "2023-03-23T13:37:45.553371",
     "status": "completed"
    },
    "tags": []
   },
   "source": [
    "## **Bu grafik, aylık erkeklerin satın alımlarını gösteriyor.**\n",
    "\n",
    "\n",
    "> **Şimdi grafik değişti. Moda aksesuarları (Fashion accessories) birincilikten dördüncü sıraya geçti. Ve şimdi ilk sırada Sağlık ve Güzellik (Health and Beauty) ürünleri var. Erkeklerin güzelliğine önem vermediğini kim söyledi? Şaka yapıyorum, böyle bir çıkarım yapılamaz ama belki de kız arkadaşları ya da anneleri için aldılar. Kim bilir?**\n",
    "\n",
    "\n",
    "> **Elektronik aksesuarları (Electronic accessories) Sağlık ve Güzellik (Health and Beauty) aksesuarlarının yanına koymak süpermarketlerdeki satışları artırabilir.**"
   ]
  },
  {
   "cell_type": "code",
   "execution_count": 35,
   "id": "b571b556",
   "metadata": {
    "execution": {
     "iopub.execute_input": "2023-03-23T13:37:45.626802Z",
     "iopub.status.busy": "2023-03-23T13:37:45.626360Z",
     "iopub.status.idle": "2023-03-23T13:37:45.783786Z",
     "shell.execute_reply": "2023-03-23T13:37:45.782436Z"
    },
    "papermill": {
     "duration": 0.185427,
     "end_time": "2023-03-23T13:37:45.786602",
     "exception": false,
     "start_time": "2023-03-23T13:37:45.601175",
     "status": "completed"
    },
    "tags": []
   },
   "outputs": [
    {
     "data": {
      "image/png": "[encoded data removed]",
      "text/plain": [
       "<Figure size 576x576 with 1 Axes>"
      ]
     },
     "metadata": {},
     "output_type": "display_data"
    }
   ],
   "source": [
    "plt.figure(figsize=(8,8))\n",
    "\n",
    "explode=(0.15,0.05,0.05,0.05,0.05,0.05)\n",
    "\n",
    "df[\"Product line\"][df[\"Gender\"]==\"Female\"].value_counts().plot.pie(autopct=\"%1.2f%%\",startangle=80,explode=explode,)\n",
    "\n",
    "plt.title(\"Transaction per month of Females\");\n"
   ]
  },
  {
   "cell_type": "markdown",
   "id": "2513a8ae",
   "metadata": {
    "papermill": {
     "duration": 0.025029,
     "end_time": "2023-03-23T13:37:45.836593",
     "exception": false,
     "start_time": "2023-03-23T13:37:45.811564",
     "status": "completed"
    },
    "tags": []
   },
   "source": [
    "## Bu grafik, aylık kadınların  satın alımlarını gösterir.\n",
    "> **Beklediğimiz gibi, Moda aksesuarları (Fashion accessories) geniş bir farkla önde.**"
   ]
  },
  {
   "cell_type": "code",
   "execution_count": 36,
   "id": "6e7559b6",
   "metadata": {
    "execution": {
     "iopub.execute_input": "2023-03-23T13:37:45.888457Z",
     "iopub.status.busy": "2023-03-23T13:37:45.887660Z",
     "iopub.status.idle": "2023-03-23T13:37:46.089398Z",
     "shell.execute_reply": "2023-03-23T13:37:46.088016Z"
    },
    "papermill": {
     "duration": 0.230989,
     "end_time": "2023-03-23T13:37:46.092482",
     "exception": false,
     "start_time": "2023-03-23T13:37:45.861493",
     "status": "completed"
    },
    "tags": []
   },
   "outputs": [
    {
     "data": {
      "image/png": "[encoded data removed]",
      "text/plain": [
       "<Figure size 432x288 with 1 Axes>"
      ]
     },
     "metadata": {
      "needs_background": "light"
     },
     "output_type": "display_data"
    }
   ],
   "source": [
    "plt.title(\"Total Monthly Tranaction\")\n",
    "sns.countplot(x=df[\"City\"],hue = df[\"Branch\"]);"
   ]
  },
  {
   "cell_type": "markdown",
   "id": "760bb56d",
   "metadata": {
    "papermill": {
     "duration": 0.025205,
     "end_time": "2023-03-23T13:37:46.144126",
     "exception": false,
     "start_time": "2023-03-23T13:37:46.118921",
     "status": "completed"
    },
    "tags": []
   },
   "source": [
    ">  Müşterilerin çoğu Yangon şehrinden."
   ]
  },
  {
   "cell_type": "code",
   "execution_count": 37,
   "id": "7858be38",
   "metadata": {
    "execution": {
     "iopub.execute_input": "2023-03-23T13:37:46.196119Z",
     "iopub.status.busy": "2023-03-23T13:37:46.195695Z",
     "iopub.status.idle": "2023-03-23T13:37:46.431009Z",
     "shell.execute_reply": "2023-03-23T13:37:46.429837Z"
    },
    "papermill": {
     "duration": 0.264315,
     "end_time": "2023-03-23T13:37:46.433515",
     "exception": false,
     "start_time": "2023-03-23T13:37:46.169200",
     "status": "completed"
    },
    "tags": []
   },
   "outputs": [
    {
     "data": {
      "image/png": "[encoded data removed]",
      "text/plain": [
       "<Figure size 864x432 with 1 Axes>"
      ]
     },
     "metadata": {
      "needs_background": "light"
     },
     "output_type": "display_data"
    }
   ],
   "source": [
    "plt.figure(figsize=(12,6))\n",
    "plt.title(\"total monthly Transaction\")\n",
    "sns.countplot(x=df[\"Branch\"],hue=df[\"Product line\"])\n",
    "plt.xticks(rotation=35)\n",
    "plt.legend(loc=\"best\"); \n",
    "plt.show()"
   ]
  },
  {
   "cell_type": "markdown",
   "id": "b1d67006",
   "metadata": {
    "papermill": {
     "duration": 0.025609,
     "end_time": "2023-03-23T13:37:46.484717",
     "exception": false,
     "start_time": "2023-03-23T13:37:46.459108",
     "status": "completed"
    },
    "tags": []
   },
   "source": [
    "> Gördüğünüz gibi, popülerlik ve ihtiyaçlar konuma göre değişebilir."
   ]
  },
  {
   "cell_type": "code",
   "execution_count": 38,
   "id": "83a899db",
   "metadata": {
    "execution": {
     "iopub.execute_input": "2023-03-23T13:37:46.537985Z",
     "iopub.status.busy": "2023-03-23T13:37:46.537595Z",
     "iopub.status.idle": "2023-03-23T13:37:46.660695Z",
     "shell.execute_reply": "2023-03-23T13:37:46.659413Z"
    },
    "papermill": {
     "duration": 0.152974,
     "end_time": "2023-03-23T13:37:46.663683",
     "exception": false,
     "start_time": "2023-03-23T13:37:46.510709",
     "status": "completed"
    },
    "tags": []
   },
   "outputs": [
    {
     "data": {
      "image/png": "[encoded data removed]",
      "text/plain": [
       "<Figure size 432x288 with 1 Axes>"
      ]
     },
     "metadata": {
      "needs_background": "light"
     },
     "output_type": "display_data"
    }
   ],
   "source": [
    "plt.title(\"Count plot of customers types\")\n",
    "sns.countplot(x=df[\"Customer type\" ]);"
   ]
  },
  {
   "cell_type": "markdown",
   "id": "0f04d332",
   "metadata": {
    "papermill": {
     "duration": 0.025566,
     "end_time": "2023-03-23T13:37:46.716641",
     "exception": false,
     "start_time": "2023-03-23T13:37:46.691075",
     "status": "completed"
    },
    "tags": []
   },
   "source": [
    "- Bunlar hemen hemen eşit"
   ]
  },
  {
   "cell_type": "code",
   "execution_count": 39,
   "id": "efc95a92",
   "metadata": {
    "execution": {
     "iopub.execute_input": "2023-03-23T13:37:46.769651Z",
     "iopub.status.busy": "2023-03-23T13:37:46.769157Z",
     "iopub.status.idle": "2023-03-23T13:37:46.778366Z",
     "shell.execute_reply": "2023-03-23T13:37:46.777223Z"
    },
    "papermill": {
     "duration": 0.038545,
     "end_time": "2023-03-23T13:37:46.780722",
     "exception": false,
     "start_time": "2023-03-23T13:37:46.742177",
     "status": "completed"
    },
    "tags": []
   },
   "outputs": [
    {
     "data": {
      "text/plain": [
       "Member    501\n",
       "Normal    499\n",
       "Name: Customer type, dtype: int64"
      ]
     },
     "execution_count": 39,
     "metadata": {},
     "output_type": "execute_result"
    }
   ],
   "source": [
    "df[\"Customer type\"].value_counts()"
   ]
  },
  {
   "cell_type": "markdown",
   "id": "5b74c4c7",
   "metadata": {
    "papermill": {
     "duration": 0.025352,
     "end_time": "2023-03-23T13:37:46.832107",
     "exception": false,
     "start_time": "2023-03-23T13:37:46.806755",
     "status": "completed"
    },
    "tags": []
   },
   "source": [
    "- Sadece 2 fark var"
   ]
  },
  {
   "cell_type": "code",
   "execution_count": 40,
   "id": "49eaafe9",
   "metadata": {
    "execution": {
     "iopub.execute_input": "2023-03-23T13:37:46.885866Z",
     "iopub.status.busy": "2023-03-23T13:37:46.885406Z",
     "iopub.status.idle": "2023-03-23T13:37:47.073809Z",
     "shell.execute_reply": "2023-03-23T13:37:47.072554Z"
    },
    "papermill": {
     "duration": 0.218195,
     "end_time": "2023-03-23T13:37:47.076477",
     "exception": false,
     "start_time": "2023-03-23T13:37:46.858282",
     "status": "completed"
    },
    "tags": []
   },
   "outputs": [
    {
     "data": {
      "image/png": "[encoded data removed]",
      "text/plain": [
       "<Figure size 432x288 with 1 Axes>"
      ]
     },
     "metadata": {
      "needs_background": "light"
     },
     "output_type": "display_data"
    }
   ],
   "source": [
    "plt.title(\"Frequency of purchases genderwise\")\n",
    "sns.countplot(x=df.City,hue=df.Gender);\n",
    "#Şehirlere göre cinsiyetler"
   ]
  },
  {
   "cell_type": "code",
   "execution_count": 41,
   "id": "08bafba1",
   "metadata": {
    "execution": {
     "iopub.execute_input": "2023-03-23T13:37:47.131811Z",
     "iopub.status.busy": "2023-03-23T13:37:47.130661Z",
     "iopub.status.idle": "2023-03-23T13:37:47.260627Z",
     "shell.execute_reply": "2023-03-23T13:37:47.259719Z"
    },
    "papermill": {
     "duration": 0.160302,
     "end_time": "2023-03-23T13:37:47.262972",
     "exception": false,
     "start_time": "2023-03-23T13:37:47.102670",
     "status": "completed"
    },
    "tags": []
   },
   "outputs": [
    {
     "data": {
      "image/png": "[encoded data removed]",
      "text/plain": [
       "<Figure size 432x288 with 1 Axes>"
      ]
     },
     "metadata": {
      "needs_background": "light"
     },
     "output_type": "display_data"
    }
   ],
   "source": [
    "sns.countplot(x=df.Payment);"
   ]
  },
  {
   "cell_type": "markdown",
   "id": "86f3a411",
   "metadata": {
    "papermill": {
     "duration": 0.025992,
     "end_time": "2023-03-23T13:37:47.316123",
     "exception": false,
     "start_time": "2023-03-23T13:37:47.290131",
     "status": "completed"
    },
    "tags": []
   },
   "source": [
    "> **Kredi Kartı diğerlerine göre birazcık daha az**"
   ]
  },
  {
   "cell_type": "code",
   "execution_count": 42,
   "id": "a0ceeb5d",
   "metadata": {
    "execution": {
     "iopub.execute_input": "2023-03-23T13:37:47.371394Z",
     "iopub.status.busy": "2023-03-23T13:37:47.370996Z",
     "iopub.status.idle": "2023-03-23T13:37:47.602047Z",
     "shell.execute_reply": "2023-03-23T13:37:47.600495Z"
    },
    "papermill": {
     "duration": 0.263582,
     "end_time": "2023-03-23T13:37:47.606163",
     "exception": false,
     "start_time": "2023-03-23T13:37:47.342581",
     "status": "completed"
    },
    "tags": []
   },
   "outputs": [
    {
     "data": {
      "image/png": "[encoded data removed]",
      "text/plain": [
       "<Figure size 432x288 with 1 Axes>"
      ]
     },
     "metadata": {
      "needs_background": "light"
     },
     "output_type": "display_data"
    }
   ],
   "source": [
    "sns.barplot(x=df.Payment,y=df[\"Total\"]);"
   ]
  },
  {
   "cell_type": "markdown",
   "id": "857b39d1",
   "metadata": {
    "papermill": {
     "duration": 0.026449,
     "end_time": "2023-03-23T13:37:47.665576",
     "exception": false,
     "start_time": "2023-03-23T13:37:47.639127",
     "status": "completed"
    },
    "tags": []
   },
   "source": [
    "> **Toplam artarken daha yüksek Kredi Kartı ve E-cüzdan görmeyi bekliyordum. Dolayısıyla bu verilerin 2019'un başlarında olduğunu unutmamalı ve bugünü değil o tarihi düşünmeliyiz. Pandemi çoğu kişi fiziksel paradan sanal paraya yöneldi.**"
   ]
  },
  {
   "cell_type": "code",
   "execution_count": 43,
   "id": "34b472f2",
   "metadata": {
    "execution": {
     "iopub.execute_input": "2023-03-23T13:37:47.721859Z",
     "iopub.status.busy": "2023-03-23T13:37:47.720845Z",
     "iopub.status.idle": "2023-03-23T13:37:48.121763Z",
     "shell.execute_reply": "2023-03-23T13:37:48.120528Z"
    },
    "papermill": {
     "duration": 0.432228,
     "end_time": "2023-03-23T13:37:48.124543",
     "exception": false,
     "start_time": "2023-03-23T13:37:47.692315",
     "status": "completed"
    },
    "tags": []
   },
   "outputs": [
    {
     "data": {
      "image/png": "[encoded data removed]",
      "text/plain": [
       "<Figure size 864x432 with 1 Axes>"
      ]
     },
     "metadata": {
      "needs_background": "light"
     },
     "output_type": "display_data"
    }
   ],
   "source": [
    "plt.figure(figsize=(12,6))\n",
    "sns.barplot(x=df[\"Product line\"],y=df[\"gross income\"]);"
   ]
  },
  {
   "cell_type": "code",
   "execution_count": 44,
   "id": "92e8f8a0",
   "metadata": {
    "execution": {
     "iopub.execute_input": "2023-03-23T13:37:48.182034Z",
     "iopub.status.busy": "2023-03-23T13:37:48.180653Z",
     "iopub.status.idle": "2023-03-23T13:37:48.592064Z",
     "shell.execute_reply": "2023-03-23T13:37:48.590970Z"
    },
    "papermill": {
     "duration": 0.44236,
     "end_time": "2023-03-23T13:37:48.594501",
     "exception": false,
     "start_time": "2023-03-23T13:37:48.152141",
     "status": "completed"
    },
    "tags": []
   },
   "outputs": [
    {
     "data": {
      "image/png": "[encoded data removed]",
      "text/plain": [
       "<Figure size 864x432 with 1 Axes>"
      ]
     },
     "metadata": {
      "needs_background": "light"
     },
     "output_type": "display_data"
    }
   ],
   "source": [
    "plt.figure(figsize=(12,6))\n",
    "sns.barplot(x=df[\"Product line\"],y=df[\"gross income\"])\n",
    "plt.xticks(rotation=45);"
   ]
  },
  {
   "cell_type": "markdown",
   "id": "be8658e0",
   "metadata": {
    "papermill": {
     "duration": 0.027777,
     "end_time": "2023-03-23T13:37:48.649876",
     "exception": false,
     "start_time": "2023-03-23T13:37:48.622099",
     "status": "completed"
    },
    "tags": []
   },
   "source": [
    "> **Ev ve yaşam tarzı (Home and lifestyle) brüt geliri diğerlerinden daha fazladır.**"
   ]
  },
  {
   "cell_type": "code",
   "execution_count": 45,
   "id": "912b7fec",
   "metadata": {
    "execution": {
     "iopub.execute_input": "2023-03-23T13:37:48.706731Z",
     "iopub.status.busy": "2023-03-23T13:37:48.706338Z",
     "iopub.status.idle": "2023-03-23T13:37:49.104805Z",
     "shell.execute_reply": "2023-03-23T13:37:49.103924Z"
    },
    "papermill": {
     "duration": 0.429657,
     "end_time": "2023-03-23T13:37:49.107104",
     "exception": false,
     "start_time": "2023-03-23T13:37:48.677447",
     "status": "completed"
    },
    "tags": []
   },
   "outputs": [
    {
     "data": {
      "image/png": "[encoded data removed]",
      "text/plain": [
       "<Figure size 864x432 with 1 Axes>"
      ]
     },
     "metadata": {
      "needs_background": "light"
     },
     "output_type": "display_data"
    }
   ],
   "source": [
    "plt.figure(figsize=(12,6))\n",
    "sns.barplot(y=df[\"Product line\"],x=df[\"Rating\"]);"
   ]
  },
  {
   "cell_type": "markdown",
   "id": "d46722bc",
   "metadata": {
    "papermill": {
     "duration": 0.027661,
     "end_time": "2023-03-23T13:37:49.163063",
     "exception": false,
     "start_time": "2023-03-23T13:37:49.135402",
     "status": "completed"
    },
    "tags": []
   },
   "source": [
    "> **Derecelendirme ve aksesuarlar arasında büyük farklar yok.**"
   ]
  },
  {
   "cell_type": "code",
   "execution_count": 46,
   "id": "61bf6093",
   "metadata": {
    "execution": {
     "iopub.execute_input": "2023-03-23T13:37:49.220702Z",
     "iopub.status.busy": "2023-03-23T13:37:49.220063Z",
     "iopub.status.idle": "2023-03-23T13:37:49.769655Z",
     "shell.execute_reply": "2023-03-23T13:37:49.768757Z"
    },
    "papermill": {
     "duration": 0.581059,
     "end_time": "2023-03-23T13:37:49.771899",
     "exception": false,
     "start_time": "2023-03-23T13:37:49.190840",
     "status": "completed"
    },
    "tags": []
   },
   "outputs": [
    {
     "data": {
      "image/png": "[encoded data removed]",
      "text/plain": [
       "<Figure size 864x432 with 1 Axes>"
      ]
     },
     "metadata": {
      "needs_background": "light"
     },
     "output_type": "display_data"
    }
   ],
   "source": [
    "plt.figure(figsize=(12,6))\n",
    "sns.barplot(x=df[\"Total\"],y=df[\"Product line\"]);"
   ]
  },
  {
   "cell_type": "code",
   "execution_count": 47,
   "id": "997ba1ad",
   "metadata": {
    "execution": {
     "iopub.execute_input": "2023-03-23T13:37:49.830358Z",
     "iopub.status.busy": "2023-03-23T13:37:49.829693Z",
     "iopub.status.idle": "2023-03-23T13:37:50.083026Z",
     "shell.execute_reply": "2023-03-23T13:37:50.081826Z"
    },
    "papermill": {
     "duration": 0.285188,
     "end_time": "2023-03-23T13:37:50.085510",
     "exception": false,
     "start_time": "2023-03-23T13:37:49.800322",
     "status": "completed"
    },
    "tags": []
   },
   "outputs": [
    {
     "data": {
      "image/png": "[encoded data removed]",
      "text/plain": [
       "<Figure size 864x432 with 1 Axes>"
      ]
     },
     "metadata": {
      "needs_background": "light"
     },
     "output_type": "display_data"
    }
   ],
   "source": [
    "plt.figure(figsize=(12,6))\n",
    "sns.histplot(df[\"Quantity\"]);"
   ]
  },
  {
   "cell_type": "markdown",
   "id": "641e35a4",
   "metadata": {
    "papermill": {
     "duration": 0.028766,
     "end_time": "2023-03-23T13:37:50.143249",
     "exception": false,
     "start_time": "2023-03-23T13:37:50.114483",
     "status": "completed"
    },
    "tags": []
   },
   "source": [
    "> Miktarlar neredeyse eşit olarak dağıtılmış."
   ]
  },
  {
   "cell_type": "markdown",
   "id": "94b77b52",
   "metadata": {
    "papermill": {
     "duration": 0.028045,
     "end_time": "2023-03-23T13:37:50.199675",
     "exception": false,
     "start_time": "2023-03-23T13:37:50.171630",
     "status": "completed"
    },
    "tags": []
   },
   "source": [
    "## Korelasyona bakalım!"
   ]
  },
  {
   "cell_type": "code",
   "execution_count": 48,
   "id": "db6c48e2",
   "metadata": {
    "execution": {
     "iopub.execute_input": "2023-03-23T13:37:50.258558Z",
     "iopub.status.busy": "2023-03-23T13:37:50.257905Z",
     "iopub.status.idle": "2023-03-23T13:37:51.171604Z",
     "shell.execute_reply": "2023-03-23T13:37:51.170615Z"
    },
    "papermill": {
     "duration": 0.946062,
     "end_time": "2023-03-23T13:37:51.174164",
     "exception": false,
     "start_time": "2023-03-23T13:37:50.228102",
     "status": "completed"
    },
    "tags": []
   },
   "outputs": [
    {
     "data": {
      "image/png": "[encoded data removed]",
      "text/plain": [
       "<Figure size 720x720 with 2 Axes>"
      ]
     },
     "metadata": {
      "needs_background": "light"
     },
     "output_type": "display_data"
    }
   ],
   "source": [
    "plt.figure(figsize=(10,10))\n",
    "sns.heatmap(df.corr(),annot=True);"
   ]
  },
  {
   "cell_type": "code",
   "execution_count": 49,
   "id": "19297d4d",
   "metadata": {
    "execution": {
     "iopub.execute_input": "2023-03-23T13:37:51.237599Z",
     "iopub.status.busy": "2023-03-23T13:37:51.237175Z",
     "iopub.status.idle": "2023-03-23T13:37:52.059890Z",
     "shell.execute_reply": "2023-03-23T13:37:52.058517Z"
    },
    "papermill": {
     "duration": 0.857159,
     "end_time": "2023-03-23T13:37:52.062472",
     "exception": false,
     "start_time": "2023-03-23T13:37:51.205313",
     "status": "completed"
    },
    "tags": []
   },
   "outputs": [
    {
     "data": {
      "image/png": "[encoded data removed]",
      "text/plain": [
       "<Figure size 864x864 with 2 Axes>"
      ]
     },
     "metadata": {
      "needs_background": "light"
     },
     "output_type": "display_data"
    }
   ],
   "source": [
    "# Daha net görmek için NaN sütunlarını silcem.\n",
    "plt.figure(figsize=(12,12))\n",
    "sns.heatmap(df.drop([\"gross margin percentage\",\"year\"],axis=1).corr(),annot=True,cmap=\"winter\");"
   ]
  },
  {
   "cell_type": "markdown",
   "id": "a5f2e0ee",
   "metadata": {
    "papermill": {
     "duration": 0.033773,
     "end_time": "2023-03-23T13:37:52.129623",
     "exception": false,
     "start_time": "2023-03-23T13:37:52.095850",
     "status": "completed"
    },
    "tags": []
   },
   "source": [
    "---\n",
    "Size veri ve görselleştirme ve kısa bir veri analizini göstermeye çalıştım. Umarım yardımcı olabilmişimdir 😊"
   ]
  },
  {
   "cell_type": "markdown",
   "id": "6c7b952a",
   "metadata": {
    "papermill": {
     "duration": 0.032214,
     "end_time": "2023-03-23T13:37:52.196480",
     "exception": false,
     "start_time": "2023-03-23T13:37:52.164266",
     "status": "completed"
    },
    "tags": []
   },
   "source": [
    "\n",
    "### Yazar:\n",
    "# Ahmet Talha Bektaş\n",
    "> ## 📧 [E-mail Hesabım](mailto:atalhabektas@gmail.com)\n",
    "\n",
    "> ## 🔗 [LinkedIn Hesabım](https://www.linkedin.com/in/ahmet-talha-bekta%C5%9F-056844216)\n",
    "\n",
    "> ## 💻 [GitHub Hesabım](https://github.com/ahmettalhabektastr)\n",
    "\n",
    "> ## 👨‍💻 [Kaggle Hesabım](https://www.kaggle.com/ahmettalhabektastr)\n",
    "\n",
    "> ## 📋 [Medium Hesabım](https://medium.com/@ahmettalhabektas_tr)"
   ]
  }
 ],
 "metadata": {
  "kernelspec": {
   "display_name": "Python 3",
   "language": "python",
   "name": "python3"
  },
  "language_info": {
   "codemirror_mode": {
    "name": "ipython",
    "version": 3
   },
   "file_extension": ".py",
   "mimetype": "text/x-python",
   "name": "python",
   "nbconvert_exporter": "python",
   "pygments_lexer": "ipython3",
   "version": "3.7.12"
  },
  "papermill": {
   "default_parameters": {},
   "duration": 22.623424,
   "end_time": "2023-03-23T13:37:53.051571",
   "environment_variables": {},
   "exception": null,
   "input_path": "__notebook__.ipynb",
   "output_path": "__notebook__.ipynb",
   "parameters": {},
   "start_time": "2023-03-23T13:37:30.428147",
   "version": "2.3.4"
  }
 },
 "nbformat": 4,
 "nbformat_minor": 5
}
